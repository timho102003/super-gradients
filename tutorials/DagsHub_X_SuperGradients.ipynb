{
  "nbformat": 4,
  "nbformat_minor": 0,
  "metadata": {
    "colab": {
      "provenance": [],
      "toc_visible": true
    },
    "kernelspec": {
      "name": "python3",
      "display_name": "Python 3"
    },
    "language_info": {
      "name": "python"
    },
    "accelerator": "GPU",
    "gpuClass": "standard",
    "widgets": {
      "application/vnd.jupyter.widget-state+json": {
        "dcc0ec97900c4bf3949192963c57353a": {
          "model_module": "@jupyter-widgets/controls",
          "model_name": "HBoxModel",
          "model_module_version": "1.5.0",
          "state": {
            "_dom_classes": [],
            "_model_module": "@jupyter-widgets/controls",
            "_model_module_version": "1.5.0",
            "_model_name": "HBoxModel",
            "_view_count": null,
            "_view_module": "@jupyter-widgets/controls",
            "_view_module_version": "1.5.0",
            "_view_name": "HBoxView",
            "box_style": "",
            "children": [
              "IPY_MODEL_0499795cff2a42d494791b3e5ef47045",
              "IPY_MODEL_b88c744e42ee4fdf8acd915b54c82cf9",
              "IPY_MODEL_498ac5e4cbb54be69246c28ebb07998e"
            ],
            "layout": "IPY_MODEL_a081ee7adf124ceea42825c0899c8a20"
          }
        },
        "0499795cff2a42d494791b3e5ef47045": {
          "model_module": "@jupyter-widgets/controls",
          "model_name": "HTMLModel",
          "model_module_version": "1.5.0",
          "state": {
            "_dom_classes": [],
            "_model_module": "@jupyter-widgets/controls",
            "_model_module_version": "1.5.0",
            "_model_name": "HTMLModel",
            "_view_count": null,
            "_view_module": "@jupyter-widgets/controls",
            "_view_module_version": "1.5.0",
            "_view_name": "HTMLView",
            "description": "",
            "description_tooltip": null,
            "layout": "IPY_MODEL_6ac8cf228e854b419d8ffd4d653fc509",
            "placeholder": "​",
            "style": "IPY_MODEL_b5ad50c88c0641b0bd9d195d6cc363c3",
            "value": "100%"
          }
        },
        "b88c744e42ee4fdf8acd915b54c82cf9": {
          "model_module": "@jupyter-widgets/controls",
          "model_name": "FloatProgressModel",
          "model_module_version": "1.5.0",
          "state": {
            "_dom_classes": [],
            "_model_module": "@jupyter-widgets/controls",
            "_model_module_version": "1.5.0",
            "_model_name": "FloatProgressModel",
            "_view_count": null,
            "_view_module": "@jupyter-widgets/controls",
            "_view_module_version": "1.5.0",
            "_view_name": "ProgressView",
            "bar_style": "success",
            "description": "",
            "description_tooltip": null,
            "layout": "IPY_MODEL_49304468b8024194b62919237cb2a6b8",
            "max": 170498071,
            "min": 0,
            "orientation": "horizontal",
            "style": "IPY_MODEL_0dde0f183c9647b7a919e218938a7b40",
            "value": 170498071
          }
        },
        "498ac5e4cbb54be69246c28ebb07998e": {
          "model_module": "@jupyter-widgets/controls",
          "model_name": "HTMLModel",
          "model_module_version": "1.5.0",
          "state": {
            "_dom_classes": [],
            "_model_module": "@jupyter-widgets/controls",
            "_model_module_version": "1.5.0",
            "_model_name": "HTMLModel",
            "_view_count": null,
            "_view_module": "@jupyter-widgets/controls",
            "_view_module_version": "1.5.0",
            "_view_name": "HTMLView",
            "description": "",
            "description_tooltip": null,
            "layout": "IPY_MODEL_dc8370f00c9c4b4b94a0d5e54189563b",
            "placeholder": "​",
            "style": "IPY_MODEL_bc6a3b1e68f34c2b8e06b9a72af8355a",
            "value": " 170498071/170498071 [00:01&lt;00:00, 88226366.41it/s]"
          }
        },
        "a081ee7adf124ceea42825c0899c8a20": {
          "model_module": "@jupyter-widgets/base",
          "model_name": "LayoutModel",
          "model_module_version": "1.2.0",
          "state": {
            "_model_module": "@jupyter-widgets/base",
            "_model_module_version": "1.2.0",
            "_model_name": "LayoutModel",
            "_view_count": null,
            "_view_module": "@jupyter-widgets/base",
            "_view_module_version": "1.2.0",
            "_view_name": "LayoutView",
            "align_content": null,
            "align_items": null,
            "align_self": null,
            "border": null,
            "bottom": null,
            "display": null,
            "flex": null,
            "flex_flow": null,
            "grid_area": null,
            "grid_auto_columns": null,
            "grid_auto_flow": null,
            "grid_auto_rows": null,
            "grid_column": null,
            "grid_gap": null,
            "grid_row": null,
            "grid_template_areas": null,
            "grid_template_columns": null,
            "grid_template_rows": null,
            "height": null,
            "justify_content": null,
            "justify_items": null,
            "left": null,
            "margin": null,
            "max_height": null,
            "max_width": null,
            "min_height": null,
            "min_width": null,
            "object_fit": null,
            "object_position": null,
            "order": null,
            "overflow": null,
            "overflow_x": null,
            "overflow_y": null,
            "padding": null,
            "right": null,
            "top": null,
            "visibility": null,
            "width": null
          }
        },
        "6ac8cf228e854b419d8ffd4d653fc509": {
          "model_module": "@jupyter-widgets/base",
          "model_name": "LayoutModel",
          "model_module_version": "1.2.0",
          "state": {
            "_model_module": "@jupyter-widgets/base",
            "_model_module_version": "1.2.0",
            "_model_name": "LayoutModel",
            "_view_count": null,
            "_view_module": "@jupyter-widgets/base",
            "_view_module_version": "1.2.0",
            "_view_name": "LayoutView",
            "align_content": null,
            "align_items": null,
            "align_self": null,
            "border": null,
            "bottom": null,
            "display": null,
            "flex": null,
            "flex_flow": null,
            "grid_area": null,
            "grid_auto_columns": null,
            "grid_auto_flow": null,
            "grid_auto_rows": null,
            "grid_column": null,
            "grid_gap": null,
            "grid_row": null,
            "grid_template_areas": null,
            "grid_template_columns": null,
            "grid_template_rows": null,
            "height": null,
            "justify_content": null,
            "justify_items": null,
            "left": null,
            "margin": null,
            "max_height": null,
            "max_width": null,
            "min_height": null,
            "min_width": null,
            "object_fit": null,
            "object_position": null,
            "order": null,
            "overflow": null,
            "overflow_x": null,
            "overflow_y": null,
            "padding": null,
            "right": null,
            "top": null,
            "visibility": null,
            "width": null
          }
        },
        "b5ad50c88c0641b0bd9d195d6cc363c3": {
          "model_module": "@jupyter-widgets/controls",
          "model_name": "DescriptionStyleModel",
          "model_module_version": "1.5.0",
          "state": {
            "_model_module": "@jupyter-widgets/controls",
            "_model_module_version": "1.5.0",
            "_model_name": "DescriptionStyleModel",
            "_view_count": null,
            "_view_module": "@jupyter-widgets/base",
            "_view_module_version": "1.2.0",
            "_view_name": "StyleView",
            "description_width": ""
          }
        },
        "49304468b8024194b62919237cb2a6b8": {
          "model_module": "@jupyter-widgets/base",
          "model_name": "LayoutModel",
          "model_module_version": "1.2.0",
          "state": {
            "_model_module": "@jupyter-widgets/base",
            "_model_module_version": "1.2.0",
            "_model_name": "LayoutModel",
            "_view_count": null,
            "_view_module": "@jupyter-widgets/base",
            "_view_module_version": "1.2.0",
            "_view_name": "LayoutView",
            "align_content": null,
            "align_items": null,
            "align_self": null,
            "border": null,
            "bottom": null,
            "display": null,
            "flex": null,
            "flex_flow": null,
            "grid_area": null,
            "grid_auto_columns": null,
            "grid_auto_flow": null,
            "grid_auto_rows": null,
            "grid_column": null,
            "grid_gap": null,
            "grid_row": null,
            "grid_template_areas": null,
            "grid_template_columns": null,
            "grid_template_rows": null,
            "height": null,
            "justify_content": null,
            "justify_items": null,
            "left": null,
            "margin": null,
            "max_height": null,
            "max_width": null,
            "min_height": null,
            "min_width": null,
            "object_fit": null,
            "object_position": null,
            "order": null,
            "overflow": null,
            "overflow_x": null,
            "overflow_y": null,
            "padding": null,
            "right": null,
            "top": null,
            "visibility": null,
            "width": null
          }
        },
        "0dde0f183c9647b7a919e218938a7b40": {
          "model_module": "@jupyter-widgets/controls",
          "model_name": "ProgressStyleModel",
          "model_module_version": "1.5.0",
          "state": {
            "_model_module": "@jupyter-widgets/controls",
            "_model_module_version": "1.5.0",
            "_model_name": "ProgressStyleModel",
            "_view_count": null,
            "_view_module": "@jupyter-widgets/base",
            "_view_module_version": "1.2.0",
            "_view_name": "StyleView",
            "bar_color": null,
            "description_width": ""
          }
        },
        "dc8370f00c9c4b4b94a0d5e54189563b": {
          "model_module": "@jupyter-widgets/base",
          "model_name": "LayoutModel",
          "model_module_version": "1.2.0",
          "state": {
            "_model_module": "@jupyter-widgets/base",
            "_model_module_version": "1.2.0",
            "_model_name": "LayoutModel",
            "_view_count": null,
            "_view_module": "@jupyter-widgets/base",
            "_view_module_version": "1.2.0",
            "_view_name": "LayoutView",
            "align_content": null,
            "align_items": null,
            "align_self": null,
            "border": null,
            "bottom": null,
            "display": null,
            "flex": null,
            "flex_flow": null,
            "grid_area": null,
            "grid_auto_columns": null,
            "grid_auto_flow": null,
            "grid_auto_rows": null,
            "grid_column": null,
            "grid_gap": null,
            "grid_row": null,
            "grid_template_areas": null,
            "grid_template_columns": null,
            "grid_template_rows": null,
            "height": null,
            "justify_content": null,
            "justify_items": null,
            "left": null,
            "margin": null,
            "max_height": null,
            "max_width": null,
            "min_height": null,
            "min_width": null,
            "object_fit": null,
            "object_position": null,
            "order": null,
            "overflow": null,
            "overflow_x": null,
            "overflow_y": null,
            "padding": null,
            "right": null,
            "top": null,
            "visibility": null,
            "width": null
          }
        },
        "bc6a3b1e68f34c2b8e06b9a72af8355a": {
          "model_module": "@jupyter-widgets/controls",
          "model_name": "DescriptionStyleModel",
          "model_module_version": "1.5.0",
          "state": {
            "_model_module": "@jupyter-widgets/controls",
            "_model_module_version": "1.5.0",
            "_model_name": "DescriptionStyleModel",
            "_view_count": null,
            "_view_module": "@jupyter-widgets/base",
            "_view_module_version": "1.2.0",
            "_view_name": "StyleView",
            "description_width": ""
          }
        },
        "eeeb074019ff48ee85272e28845854e7": {
          "model_module": "@jupyter-widgets/controls",
          "model_name": "HBoxModel",
          "model_module_version": "1.5.0",
          "state": {
            "_dom_classes": [],
            "_model_module": "@jupyter-widgets/controls",
            "_model_module_version": "1.5.0",
            "_model_name": "HBoxModel",
            "_view_count": null,
            "_view_module": "@jupyter-widgets/controls",
            "_view_module_version": "1.5.0",
            "_view_name": "HBoxView",
            "box_style": "",
            "children": [
              "IPY_MODEL_a27369e75c284796a15d283b1db0a31a",
              "IPY_MODEL_36adb8c4a7e243e2b8718e3084881e11",
              "IPY_MODEL_dbfedae147704270bb4c7d5cc3cce919"
            ],
            "layout": "IPY_MODEL_131b0358390a4d32a0114ab9b48cfdc2"
          }
        },
        "a27369e75c284796a15d283b1db0a31a": {
          "model_module": "@jupyter-widgets/controls",
          "model_name": "HTMLModel",
          "model_module_version": "1.5.0",
          "state": {
            "_dom_classes": [],
            "_model_module": "@jupyter-widgets/controls",
            "_model_module_version": "1.5.0",
            "_model_name": "HTMLModel",
            "_view_count": null,
            "_view_module": "@jupyter-widgets/controls",
            "_view_module_version": "1.5.0",
            "_view_name": "HTMLView",
            "description": "",
            "description_tooltip": null,
            "layout": "IPY_MODEL_3cf7edbfe646432fa2d7bc964561f2c6",
            "placeholder": "​",
            "style": "IPY_MODEL_75931b1db1fe4401a5699a8b05b269a8",
            "value": "100%"
          }
        },
        "36adb8c4a7e243e2b8718e3084881e11": {
          "model_module": "@jupyter-widgets/controls",
          "model_name": "FloatProgressModel",
          "model_module_version": "1.5.0",
          "state": {
            "_dom_classes": [],
            "_model_module": "@jupyter-widgets/controls",
            "_model_module_version": "1.5.0",
            "_model_name": "FloatProgressModel",
            "_view_count": null,
            "_view_module": "@jupyter-widgets/controls",
            "_view_module_version": "1.5.0",
            "_view_name": "ProgressView",
            "bar_style": "success",
            "description": "",
            "description_tooltip": null,
            "layout": "IPY_MODEL_ddb6cf5c13d8454e84c016cb8b576ecc",
            "max": 46835469,
            "min": 0,
            "orientation": "horizontal",
            "style": "IPY_MODEL_2f5c708bb7ed4aebaafe0113a0f89565",
            "value": 46835469
          }
        },
        "dbfedae147704270bb4c7d5cc3cce919": {
          "model_module": "@jupyter-widgets/controls",
          "model_name": "HTMLModel",
          "model_module_version": "1.5.0",
          "state": {
            "_dom_classes": [],
            "_model_module": "@jupyter-widgets/controls",
            "_model_module_version": "1.5.0",
            "_model_name": "HTMLModel",
            "_view_count": null,
            "_view_module": "@jupyter-widgets/controls",
            "_view_module_version": "1.5.0",
            "_view_name": "HTMLView",
            "description": "",
            "description_tooltip": null,
            "layout": "IPY_MODEL_c07634a1ead041c9acff881d705f2ba6",
            "placeholder": "​",
            "style": "IPY_MODEL_4a695a23007a4bd795cb59c082b04592",
            "value": " 44.7M/44.7M [00:00&lt;00:00, 79.3MB/s]"
          }
        },
        "131b0358390a4d32a0114ab9b48cfdc2": {
          "model_module": "@jupyter-widgets/base",
          "model_name": "LayoutModel",
          "model_module_version": "1.2.0",
          "state": {
            "_model_module": "@jupyter-widgets/base",
            "_model_module_version": "1.2.0",
            "_model_name": "LayoutModel",
            "_view_count": null,
            "_view_module": "@jupyter-widgets/base",
            "_view_module_version": "1.2.0",
            "_view_name": "LayoutView",
            "align_content": null,
            "align_items": null,
            "align_self": null,
            "border": null,
            "bottom": null,
            "display": null,
            "flex": null,
            "flex_flow": null,
            "grid_area": null,
            "grid_auto_columns": null,
            "grid_auto_flow": null,
            "grid_auto_rows": null,
            "grid_column": null,
            "grid_gap": null,
            "grid_row": null,
            "grid_template_areas": null,
            "grid_template_columns": null,
            "grid_template_rows": null,
            "height": null,
            "justify_content": null,
            "justify_items": null,
            "left": null,
            "margin": null,
            "max_height": null,
            "max_width": null,
            "min_height": null,
            "min_width": null,
            "object_fit": null,
            "object_position": null,
            "order": null,
            "overflow": null,
            "overflow_x": null,
            "overflow_y": null,
            "padding": null,
            "right": null,
            "top": null,
            "visibility": null,
            "width": null
          }
        },
        "3cf7edbfe646432fa2d7bc964561f2c6": {
          "model_module": "@jupyter-widgets/base",
          "model_name": "LayoutModel",
          "model_module_version": "1.2.0",
          "state": {
            "_model_module": "@jupyter-widgets/base",
            "_model_module_version": "1.2.0",
            "_model_name": "LayoutModel",
            "_view_count": null,
            "_view_module": "@jupyter-widgets/base",
            "_view_module_version": "1.2.0",
            "_view_name": "LayoutView",
            "align_content": null,
            "align_items": null,
            "align_self": null,
            "border": null,
            "bottom": null,
            "display": null,
            "flex": null,
            "flex_flow": null,
            "grid_area": null,
            "grid_auto_columns": null,
            "grid_auto_flow": null,
            "grid_auto_rows": null,
            "grid_column": null,
            "grid_gap": null,
            "grid_row": null,
            "grid_template_areas": null,
            "grid_template_columns": null,
            "grid_template_rows": null,
            "height": null,
            "justify_content": null,
            "justify_items": null,
            "left": null,
            "margin": null,
            "max_height": null,
            "max_width": null,
            "min_height": null,
            "min_width": null,
            "object_fit": null,
            "object_position": null,
            "order": null,
            "overflow": null,
            "overflow_x": null,
            "overflow_y": null,
            "padding": null,
            "right": null,
            "top": null,
            "visibility": null,
            "width": null
          }
        },
        "75931b1db1fe4401a5699a8b05b269a8": {
          "model_module": "@jupyter-widgets/controls",
          "model_name": "DescriptionStyleModel",
          "model_module_version": "1.5.0",
          "state": {
            "_model_module": "@jupyter-widgets/controls",
            "_model_module_version": "1.5.0",
            "_model_name": "DescriptionStyleModel",
            "_view_count": null,
            "_view_module": "@jupyter-widgets/base",
            "_view_module_version": "1.2.0",
            "_view_name": "StyleView",
            "description_width": ""
          }
        },
        "ddb6cf5c13d8454e84c016cb8b576ecc": {
          "model_module": "@jupyter-widgets/base",
          "model_name": "LayoutModel",
          "model_module_version": "1.2.0",
          "state": {
            "_model_module": "@jupyter-widgets/base",
            "_model_module_version": "1.2.0",
            "_model_name": "LayoutModel",
            "_view_count": null,
            "_view_module": "@jupyter-widgets/base",
            "_view_module_version": "1.2.0",
            "_view_name": "LayoutView",
            "align_content": null,
            "align_items": null,
            "align_self": null,
            "border": null,
            "bottom": null,
            "display": null,
            "flex": null,
            "flex_flow": null,
            "grid_area": null,
            "grid_auto_columns": null,
            "grid_auto_flow": null,
            "grid_auto_rows": null,
            "grid_column": null,
            "grid_gap": null,
            "grid_row": null,
            "grid_template_areas": null,
            "grid_template_columns": null,
            "grid_template_rows": null,
            "height": null,
            "justify_content": null,
            "justify_items": null,
            "left": null,
            "margin": null,
            "max_height": null,
            "max_width": null,
            "min_height": null,
            "min_width": null,
            "object_fit": null,
            "object_position": null,
            "order": null,
            "overflow": null,
            "overflow_x": null,
            "overflow_y": null,
            "padding": null,
            "right": null,
            "top": null,
            "visibility": null,
            "width": null
          }
        },
        "2f5c708bb7ed4aebaafe0113a0f89565": {
          "model_module": "@jupyter-widgets/controls",
          "model_name": "ProgressStyleModel",
          "model_module_version": "1.5.0",
          "state": {
            "_model_module": "@jupyter-widgets/controls",
            "_model_module_version": "1.5.0",
            "_model_name": "ProgressStyleModel",
            "_view_count": null,
            "_view_module": "@jupyter-widgets/base",
            "_view_module_version": "1.2.0",
            "_view_name": "StyleView",
            "bar_color": null,
            "description_width": ""
          }
        },
        "c07634a1ead041c9acff881d705f2ba6": {
          "model_module": "@jupyter-widgets/base",
          "model_name": "LayoutModel",
          "model_module_version": "1.2.0",
          "state": {
            "_model_module": "@jupyter-widgets/base",
            "_model_module_version": "1.2.0",
            "_model_name": "LayoutModel",
            "_view_count": null,
            "_view_module": "@jupyter-widgets/base",
            "_view_module_version": "1.2.0",
            "_view_name": "LayoutView",
            "align_content": null,
            "align_items": null,
            "align_self": null,
            "border": null,
            "bottom": null,
            "display": null,
            "flex": null,
            "flex_flow": null,
            "grid_area": null,
            "grid_auto_columns": null,
            "grid_auto_flow": null,
            "grid_auto_rows": null,
            "grid_column": null,
            "grid_gap": null,
            "grid_row": null,
            "grid_template_areas": null,
            "grid_template_columns": null,
            "grid_template_rows": null,
            "height": null,
            "justify_content": null,
            "justify_items": null,
            "left": null,
            "margin": null,
            "max_height": null,
            "max_width": null,
            "min_height": null,
            "min_width": null,
            "object_fit": null,
            "object_position": null,
            "order": null,
            "overflow": null,
            "overflow_x": null,
            "overflow_y": null,
            "padding": null,
            "right": null,
            "top": null,
            "visibility": null,
            "width": null
          }
        },
        "4a695a23007a4bd795cb59c082b04592": {
          "model_module": "@jupyter-widgets/controls",
          "model_name": "DescriptionStyleModel",
          "model_module_version": "1.5.0",
          "state": {
            "_model_module": "@jupyter-widgets/controls",
            "_model_module_version": "1.5.0",
            "_model_name": "DescriptionStyleModel",
            "_view_count": null,
            "_view_module": "@jupyter-widgets/base",
            "_view_module_version": "1.2.0",
            "_view_name": "StyleView",
            "description_width": ""
          }
        }
      }
    }
  },
  "cells": [
    {
      "cell_type": "markdown",
      "source": [
        "<center><a href=\"https://dagshub.com/user/sign_up?utm_source=github&utm_medium=experiment_tracking_integration&utm_campaign=super_gradients\"><img src=\"https://i.ibb.co/QnyBq3p/Screen-Shot-2023-04-30-at-18-23-41.png\" alt=\"DagsHubXSuperGradients\" border=\"0\"></a></center>\n",
        "\n",
        "<center><h3>Train SOTA models by SuperGradients with DagsHub Logger to achive full reproducibility</h3></center>\n",
        "\n",
        "---\n",
        "\n",
        "<center><h4>Learn how to use <b>DagsHub Logger</b> callbback, integrated into the SuperGradients package, to log the training prameters, metrics, data and trained model using <a href=\"https://mlflow.org/\">MLflow</a> or <a href=\"https://dvc.org/\">DVC</a> under the hood. </h4>\n",
        "\n",
        "<h4> <b>Achive full reprodcability and model <-> data lineage by adding a few lines of code.<b>\n",
        "</h4><center>\n",
        "\n",
        "\n",
        "\n",
        "\n",
        "<a href=\"https://discord.gg/pk22NradY4\" title=\"DagsHub on Discord\"><img src=\"https://img.shields.io/discord/698874030052212737?logo=data%3Aimage%2Fpng%3Bbase64%2CiVBORw0KGgoAAAANSUhEUgAAAB4AAAAXCAYAAAAcP%2F9qAAAACXBIWXMAAAsTAAALEwEAmpwYAAAFN2lUWHRYTUw6Y29tLmFkb2JlLnhtcAAAAAAAPD94cGFja2V0IGJlZ2luPSLvu78iIGlkPSJXNU0wTXBDZWhpSHpyZVN6TlRjemtjOWQiPz4gPHg6eG1wbWV0YSB4bWxuczp4PSJhZG9iZTpuczptZXRhLyIgeDp4bXB0az0iQWRvYmUgWE1QIENvcmUgNi4wLWMwMDMgNzkuMTY0NTI3LCAyMDIwLzEwLzE1LTE3OjQ4OjMyICAgICAgICAiPiA8cmRmOlJERiB4bWxuczpyZGY9Imh0dHA6Ly93d3cudzMub3JnLzE5OTkvMDIvMjItcmRmLXN5bnRheC1ucyMiPiA8cmRmOkRlc2NyaXB0aW9uIHJkZjphYm91dD0iIiB4bWxuczp0aWZmPSJodHRwOi8vbnMuYWRvYmUuY29tL3RpZmYvMS4wLyIgeG1sbnM6eG1wPSJodHRwOi8vbnMuYWRvYmUuY29tL3hhcC8xLjAvIiB4bWxuczpkYz0iaHR0cDovL3B1cmwub3JnL2RjL2VsZW1lbnRzLzEuMS8iIHhtbG5zOnBob3Rvc2hvcD0iaHR0cDovL25zLmFkb2JlLmNvbS9waG90b3Nob3AvMS4wLyIgeG1sbnM6eG1wTU09Imh0dHA6Ly9ucy5hZG9iZS5jb20veGFwLzEuMC9tbS8iIHhtbG5zOnN0RXZ0PSJodHRwOi8vbnMuYWRvYmUuY29tL3hhcC8xLjAvc1R5cGUvUmVzb3VyY2VFdmVudCMiIHRpZmY6T3JpZW50YXRpb249IjEiIHhtcDpDcmVhdGVEYXRlPSIyMDIxLTEwLTIzVDE2OjI5OjAyKzAzOjAwIiB4bXA6TW9kaWZ5RGF0ZT0iMjAyMS0xMC0yM1QxNjozNDoxMiswMzowMCIgeG1wOk1ldGFkYXRhRGF0ZT0iMjAyMS0xMC0yM1QxNjozNDoxMiswMzowMCIgZGM6Zm9ybWF0PSJpbWFnZS9wbmciIHBob3Rvc2hvcDpDb2xvck1vZGU9IjMiIHBob3Rvc2hvcDpJQ0NQcm9maWxlPSJzUkdCIElFQzYxOTY2LTIuMSIgeG1wTU06SW5zdGFuY2VJRD0ieG1wLmlpZDpiMTBhMTRjOC1iNzg5LTQ2OTgtYmVhMi1kZTI4NDg3ZmEyMjIiIHhtcE1NOkRvY3VtZW50SUQ9InhtcC5kaWQ6YjEwYTE0YzgtYjc4OS00Njk4LWJlYTItZGUyODQ4N2ZhMjIyIiB4bXBNTTpPcmlnaW5hbERvY3VtZW50SUQ9InhtcC5kaWQ6YjEwYTE0YzgtYjc4OS00Njk4LWJlYTItZGUyODQ4N2ZhMjIyIj4gPHhtcE1NOkhpc3Rvcnk%2BIDxyZGY6U2VxPiA8cmRmOmxpIHN0RXZ0OmFjdGlvbj0ic2F2ZWQiIHN0RXZ0Omluc3RhbmNlSUQ9InhtcC5paWQ6YjEwYTE0YzgtYjc4OS00Njk4LWJlYTItZGUyODQ4N2ZhMjIyIiBzdEV2dDp3aGVuPSIyMDIxLTEwLTIzVDE2OjM0OjEyKzAzOjAwIiBzdEV2dDpzb2Z0d2FyZUFnZW50PSJBZG9iZSBQaG90b3Nob3AgMjIuMSAoTWFjaW50b3NoKSIgc3RFdnQ6Y2hhbmdlZD0iLyIvPiA8L3JkZjpTZXE%2BIDwveG1wTU06SGlzdG9yeT4gPC9yZGY6RGVzY3JpcHRpb24%2BIDwvcmRmOlJERj4gPC94OnhtcG1ldGE%2BIDw%2FeHBhY2tldCBlbmQ9InIiPz4jeahYAAACnElEQVRIx62WPWxOURjH7%2Fu%2BrTdN1RsGIkgw2BBLQwxCmvgamzAxCAs2xCYGSZWBWYihSUcDFhJpJJ1M0kUqJS1BlRCk%2Bno%2F7s%2FyPPV38lwtcZKTc%2B89z33%2B%2F%2BfznAzIkllO3lcD%2FcAloBbI%2B9wMDAB7ArlSKl8EWgWOAA%2BAWX6Ni8AaoA84AOwDdhm5%2ByL3ARgG9haBK2jF1rXAJL%2BPps2ikdvaANrJ3sMIXIE7bL1jP3w3sDxRjilv2WwX7DeAur2fM92dKbCD7hbmRZbli%2Fjmo2XrF2ClhtPN99g%2BWgD4X8YPWwfUao3tDnFT%2Fh%2BBPRQfJdtL6vebCcM0uRoLEGrbv61gzz14wq32GPcA7xOGHr92Qdz%2B9K0VEMdCmQFlB96fCKRZOgIMAd8Cxf48CdwCxgID%2FHnWynU%2Bq68GSeUKz0rJbQTeiTInOqqlYiTVkFz09SvwSCLo65go67b1tJB0r2yXkGXAKusDaq0bddmBu4BXiZUuNCx1Xklq3cl9NSCtkArwrEDnPQdeF7BzpU%2Bk6N3i44HFWxOLVxihSOdTB95SkFDO9Ki4uwZMyL4ru5scNteDZHV9U0A1s%2FhErU%2Bfh%2BxYnAqyui3euWAnGkHNu9wMUNOOFfXcZtA%2BF1PH9aD%2BtYMtz4BeAckDQeS0qssR2RJ3N4E5yRUKTiyAaaAnAzbI5lzSrW6biz%2F%2FRW9%2BCZwBHgtg23QDPNc67pOSQs7RF8ApYBtwGLhhzWICeAu8AcatFV6zW0mvkf1kRtRF7yiwyYH9SOwCrhTcNA4mWdtppbNUatfnYBD3GeCkXrGy9GYArLdymE5KpWqNpBRc9ErAElu7gdf27zhw3gi6XEd69SknBJYBx4yIesYvDj5LQsat3wkcCrw0T%2FonycbE%2FgQEhDUAAAAASUVORK5CYII%3D\"></a> | <a href=\"https://www.youtube.com/c/DagsHub\" title=\"DagsHub on Youtube\"><img src=\"https://img.shields.io/youtube/channel/subscribers/UCeuZrCdpIY69XNWqn9OeSYQ?style=social\"></a> | <a href=\"https://twitter.com/TheRealDAGsHub\" title=\"DAGsHub on Twitter\"><img src=\"https://img.shields.io/twitter/follow/TheRealDAGsHub.svg?style=social\"></a>"
      ],
      "metadata": {
        "id": "Rqzr5m7PFa7t"
      }
    },
    {
      "cell_type": "markdown",
      "source": [
        "# 🧘‍♀️ Before we start\n",
        " \n",
        "<h5><center><b>If you want to follow along this notebook and log your SuperGradients experiment to DagsHub, you will need to sign up for DagsHub (it's free!)<b></center></h5>\n",
        "\n",
        "<center><a href=\"https://dagshub.com/user/sign_up?utm_source=github&utm_medium=experiment_tracking_integration&utm_campaign=super_gradients\" title=\"DAGsHub Sign Up\"><img src=\"https://img.shields.io/badge/DagsHub-Sign%20Up-%231F4C55?logo=data:image/png;base64,iVBORw0KGgoAAAANSUhEUgAAAB4AAAAeCAYAAAA7MK6iAAAACXBIWXMAAACXAAAAlwHUBiyCAAACmUlEQVRIieVXsYoUQRB9nouY7QQGBoITGumYiCDimBiYuKZnMibG+wfOJ6z+wE2kmbbBgSa6CwoqCHtofnuIoTCbiUlJ6euz7O3p23U9LvBBM71d3fVqqqqrZo+JCI4CG0fCCqDHZwZgyPmY41CxYciUvAXgAIwOgXRAnp+6lTgnqSNxzuGN+ReoSPiIBhQQkVJExiJSyy9MRaQQkUZEZiJSiUimSfgXQ8+NqPOOiLTkKr2wJYFFRaMayusViD1hy/NXOW9pRN6je9Wt5wKXbgG4SzflDIWiBlBG3O8TMuN8ynMt530AEwDXAMx8VjckCLFl5BqbXQD3qWBGpRkJChJkfHp9augFzr/wLKxrvBtiKLhvEMTbmb0au3t0sZcXga6HXm7josTbHcRNRyzrYF8oD19km8b/Ubk0hvOIuyemuKSwE5HZevAJwE2fC5a4oeCNWZsztu0SxLE9qvMB5+8APPP7LPGYG/u0DkyQZUhT0OT6DOCG9UDYJNSlHwAcB/DYXKF1oIY/AfDS9oBYd1Ky9wA2I7L8gN9dcOHZGHHBOxpbnzIcdi00KrzHiIVrlX5cMf4D00h07HH4hlKyYNibsEDcCxcS8IoaEtY0pG+OOK7fDnr6QkhWIQZdOGK99djhG6nbb3FMTA+A6cW/Eak2VaRSlWyRqYqWR+RaRs+zKuZWZ4w4J4kl7YIqHLImu449H0VkTj1JYpC4NPN14Tj2ObqyesQk0bidPSDurzhSyBc+oxJfEWNa2Sbe9rmZP03sdWHepD7oM1O7FRc518bxFsAJANeDM68BfAVwCsAVZvd3AJfCzE5dp5abh6Z4gM/TdN8LAN+4fhLAZSo/w7WCv0texX2s8xcmM1UMLLNu2W72n/13AvADffO77cDRF5EAAAAASUVORK5CYII=\" height=\"25\"></a>\n",
        "\n",
        "<br/>\n",
        "<br/>\n"
      ],
      "metadata": {
        "id": "zLJyK3Cbueg7"
      }
    },
    {
      "cell_type": "markdown",
      "source": [
        "# 🧰 Installation\n",
        "\n",
        "<h4><b>Importent Note: </b>The default version of `Pillow` installed on Colab is outdated and needs to be upgraded. Once you run the following cell, please restart the runtime.</h4>"
      ],
      "metadata": {
        "id": "-FKBqViiH3NQ"
      }
    },
    {
      "cell_type": "code",
      "execution_count": 1,
      "metadata": {
        "id": "6VyL6tJzjLaJ",
        "colab": {
          "base_uri": "https://localhost:8080/"
        },
        "outputId": "161fd419-15ef-47a3-d21b-1f9627841b73"
      },
      "outputs": [
        {
          "output_type": "stream",
          "name": "stdout",
          "text": [
            "Looking in indexes: https://pypi.org/simple, https://us-python.pkg.dev/colab-wheels/public/simple/\n",
            "Collecting git+https://github.com/timho102003/super-gradients.git@smarter-logging-control\n",
            "  Cloning https://github.com/timho102003/super-gradients.git (to revision smarter-logging-control) to /tmp/pip-req-build-np04u9xo\n",
            "  Running command git clone --filter=blob:none --quiet https://github.com/timho102003/super-gradients.git /tmp/pip-req-build-np04u9xo\n",
            "  Running command git checkout -b smarter-logging-control --track origin/smarter-logging-control\n",
            "  Switched to a new branch 'smarter-logging-control'\n",
            "  Branch 'smarter-logging-control' set up to track remote branch 'smarter-logging-control' from 'origin'.\n",
            "  Resolved https://github.com/timho102003/super-gradients.git to commit d4bd15732b1c41b78e6cf96cdd323d1a3e2a7048\n",
            "  Installing build dependencies ... \u001b[?25l\u001b[?25hdone\n",
            "  Getting requirements to build wheel ... \u001b[?25l\u001b[?25hdone\n",
            "  Preparing metadata (pyproject.toml) ... \u001b[?25l\u001b[?25hdone\n",
            "Collecting einops==0.3.2\n",
            "  Downloading einops-0.3.2-py3-none-any.whl (25 kB)\n",
            "Collecting json-tricks==3.16.1\n",
            "  Downloading json_tricks-3.16.1-py2.py3-none-any.whl (27 kB)\n",
            "Requirement already satisfied: pygments>=2.7.4 in /usr/local/lib/python3.10/dist-packages (from super-gradients==3.0.9+master) (2.14.0)\n",
            "Collecting Deprecated>=1.2.11\n",
            "  Downloading Deprecated-1.2.13-py2.py3-none-any.whl (9.6 kB)\n",
            "Collecting hydra-core>=1.2.0\n",
            "  Downloading hydra_core-1.3.2-py3-none-any.whl (154 kB)\n",
            "\u001b[2K     \u001b[90m━━━━━━━━━━━━━━━━━━━━━━━━━━━━━━━━━━━━━━\u001b[0m \u001b[32m154.5/154.5 kB\u001b[0m \u001b[31m22.3 MB/s\u001b[0m eta \u001b[36m0:00:00\u001b[0m\n",
            "\u001b[?25hCollecting sphinx-rtd-theme\n",
            "  Downloading sphinx_rtd_theme-1.2.0-py2.py3-none-any.whl (2.8 MB)\n",
            "\u001b[2K     \u001b[90m━━━━━━━━━━━━━━━━━━━━━━━━━━━━━━━━━━━━━━━━\u001b[0m \u001b[32m2.8/2.8 MB\u001b[0m \u001b[31m99.6 MB/s\u001b[0m eta \u001b[36m0:00:00\u001b[0m\n",
            "\u001b[?25hRequirement already satisfied: opencv-python>=4.5.1 in /usr/local/lib/python3.10/dist-packages (from super-gradients==3.0.9+master) (4.7.0.72)\n",
            "Requirement already satisfied: matplotlib>=3.3.4 in /usr/local/lib/python3.10/dist-packages (from super-gradients==3.0.9+master) (3.7.1)\n",
            "Collecting sphinx~=4.0.2\n",
            "  Downloading Sphinx-4.0.3-py3-none-any.whl (2.9 MB)\n",
            "\u001b[2K     \u001b[90m━━━━━━━━━━━━━━━━━━━━━━━━━━━━━━━━━━━━━━━━\u001b[0m \u001b[32m2.9/2.9 MB\u001b[0m \u001b[31m10.6 MB/s\u001b[0m eta \u001b[36m0:00:00\u001b[0m\n",
            "\u001b[?25hRequirement already satisfied: numpy<=1.23 in /usr/local/lib/python3.10/dist-packages (from super-gradients==3.0.9+master) (1.22.4)\n",
            "Collecting pycocotools==2.0.4\n",
            "  Downloading pycocotools-2.0.4.tar.gz (106 kB)\n",
            "\u001b[2K     \u001b[90m━━━━━━━━━━━━━━━━━━━━━━━━━━━━━━━━━━━━━━\u001b[0m \u001b[32m106.6/106.6 kB\u001b[0m \u001b[31m14.2 MB/s\u001b[0m eta \u001b[36m0:00:00\u001b[0m\n",
            "\u001b[?25h  Installing build dependencies ... \u001b[?25l\u001b[?25hdone\n",
            "  Getting requirements to build wheel ... \u001b[?25l\u001b[?25hdone\n",
            "  Preparing metadata (pyproject.toml) ... \u001b[?25l\u001b[?25hdone\n",
            "Requirement already satisfied: tensorboard>=2.4.1 in /usr/local/lib/python3.10/dist-packages (from super-gradients==3.0.9+master) (2.12.2)\n",
            "Collecting pillow>=9.2.0\n",
            "  Downloading Pillow-9.5.0-cp310-cp310-manylinux_2_28_x86_64.whl (3.4 MB)\n",
            "\u001b[2K     \u001b[90m━━━━━━━━━━━━━━━━━━━━━━━━━━━━━━━━━━━━━━━━\u001b[0m \u001b[32m3.4/3.4 MB\u001b[0m \u001b[31m103.9 MB/s\u001b[0m eta \u001b[36m0:00:00\u001b[0m\n",
            "\u001b[?25hCollecting omegaconf\n",
            "  Downloading omegaconf-2.3.0-py3-none-any.whl (79 kB)\n",
            "\u001b[2K     \u001b[90m━━━━━━━━━━━━━━━━━━━━━━━━━━━━━━━━━━━━━━━━\u001b[0m \u001b[32m79.5/79.5 kB\u001b[0m \u001b[31m13.3 MB/s\u001b[0m eta \u001b[36m0:00:00\u001b[0m\n",
            "\u001b[?25hRequirement already satisfied: protobuf==3.20.3 in /usr/local/lib/python3.10/dist-packages (from super-gradients==3.0.9+master) (3.20.3)\n",
            "Requirement already satisfied: psutil>=5.8.0 in /usr/local/lib/python3.10/dist-packages (from super-gradients==3.0.9+master) (5.9.5)\n",
            "Collecting torch<1.14,>=1.9.0\n",
            "  Downloading torch-1.13.1-cp310-cp310-manylinux1_x86_64.whl (887.5 MB)\n",
            "\u001b[2K     \u001b[90m━━━━━━━━━━━━━━━━━━━━━━━━━━━━━━━━━━━━━━━\u001b[0m \u001b[32m887.5/887.5 MB\u001b[0m \u001b[31m1.9 MB/s\u001b[0m eta \u001b[36m0:00:00\u001b[0m\n",
            "\u001b[?25hCollecting boto3>=1.17.15\n",
            "  Downloading boto3-1.26.123-py3-none-any.whl (135 kB)\n",
            "\u001b[2K     \u001b[90m━━━━━━━━━━━━━━━━━━━━━━━━━━━━━━━━━━━━━━\u001b[0m \u001b[32m135.6/135.6 kB\u001b[0m \u001b[31m17.3 MB/s\u001b[0m eta \u001b[36m0:00:00\u001b[0m\n",
            "\u001b[?25hCollecting pip-tools>=6.12.1\n",
            "  Downloading pip_tools-6.13.0-py3-none-any.whl (53 kB)\n",
            "\u001b[2K     \u001b[90m━━━━━━━━━━━━━━━━━━━━━━━━━━━━━━━━━━━━━━━━\u001b[0m \u001b[32m53.2/53.2 kB\u001b[0m \u001b[31m5.6 MB/s\u001b[0m eta \u001b[36m0:00:00\u001b[0m\n",
            "\u001b[?25hCollecting onnxruntime==1.13.1\n",
            "  Downloading onnxruntime-1.13.1-cp310-cp310-manylinux_2_27_x86_64.whl (4.5 MB)\n",
            "\u001b[2K     \u001b[90m━━━━━━━━━━━━━━━━━━━━━━━━━━━━━━━━━━━━━━━━\u001b[0m \u001b[32m4.5/4.5 MB\u001b[0m \u001b[31m66.4 MB/s\u001b[0m eta \u001b[36m0:00:00\u001b[0m\n",
            "\u001b[?25hRequirement already satisfied: torchvision>=0.10.0 in /usr/local/lib/python3.10/dist-packages (from super-gradients==3.0.9+master) (0.15.1+cu118)\n",
            "Requirement already satisfied: wheel>=0.38.0 in /usr/local/lib/python3.10/dist-packages (from super-gradients==3.0.9+master) (0.40.0)\n",
            "Collecting termcolor==1.1.0\n",
            "  Downloading termcolor-1.1.0.tar.gz (3.9 kB)\n",
            "  Preparing metadata (setup.py) ... \u001b[?25l\u001b[?25hdone\n",
            "Collecting onnx-simplifier<1.0,>=0.3.6\n",
            "  Downloading onnx_simplifier-0.4.26-cp310-cp310-manylinux_2_17_x86_64.manylinux2014_x86_64.whl (2.1 MB)\n",
            "\u001b[2K     \u001b[90m━━━━━━━━━━━━━━━━━━━━━━━━━━━━━━━━━━━━━━━━\u001b[0m \u001b[32m2.1/2.1 MB\u001b[0m \u001b[31m77.5 MB/s\u001b[0m eta \u001b[36m0:00:00\u001b[0m\n",
            "\u001b[?25hCollecting torchmetrics==0.8\n",
            "  Downloading torchmetrics-0.8.0-py3-none-any.whl (408 kB)\n",
            "\u001b[2K     \u001b[90m━━━━━━━━━━━━━━━━━━━━━━━━━━━━━━━━━━━━━━\u001b[0m \u001b[32m408.6/408.6 kB\u001b[0m \u001b[31m35.6 MB/s\u001b[0m eta \u001b[36m0:00:00\u001b[0m\n",
            "\u001b[?25hCollecting onnx==1.13.0\n",
            "  Downloading onnx-1.13.0-cp310-cp310-manylinux_2_17_x86_64.manylinux2014_x86_64.whl (13.5 MB)\n",
            "\u001b[2K     \u001b[90m━━━━━━━━━━━━━━━━━━━━━━━━━━━━━━━━━━━━━━━━\u001b[0m \u001b[32m13.5/13.5 MB\u001b[0m \u001b[31m85.4 MB/s\u001b[0m eta \u001b[36m0:00:00\u001b[0m\n",
            "\u001b[?25hCollecting rapidfuzz\n",
            "  Downloading rapidfuzz-3.0.0-cp310-cp310-manylinux_2_17_x86_64.manylinux2014_x86_64.whl (3.0 MB)\n",
            "\u001b[2K     \u001b[90m━━━━━━━━━━━━━━━━━━━━━━━━━━━━━━━━━━━━━━━━\u001b[0m \u001b[32m3.0/3.0 MB\u001b[0m \u001b[31m75.5 MB/s\u001b[0m eta \u001b[36m0:00:00\u001b[0m\n",
            "\u001b[?25hCollecting stringcase>=1.2.0\n",
            "  Downloading stringcase-1.2.0.tar.gz (3.0 kB)\n",
            "  Preparing metadata (setup.py) ... \u001b[?25l\u001b[?25hdone\n",
            "Requirement already satisfied: tqdm>=4.57.0 in /usr/local/lib/python3.10/dist-packages (from super-gradients==3.0.9+master) (4.65.0)\n",
            "Requirement already satisfied: scipy>=1.6.1 in /usr/local/lib/python3.10/dist-packages (from super-gradients==3.0.9+master) (1.10.1)\n",
            "Requirement already satisfied: packaging>=20.4 in /usr/local/lib/python3.10/dist-packages (from super-gradients==3.0.9+master) (23.1)\n",
            "Collecting coverage~=5.3.1\n",
            "  Downloading coverage-5.3.1.tar.gz (684 kB)\n",
            "\u001b[2K     \u001b[90m━━━━━━━━━━━━━━━━━━━━━━━━━━━━━━━━━━━━━━\u001b[0m \u001b[32m684.5/684.5 kB\u001b[0m \u001b[31m59.7 MB/s\u001b[0m eta \u001b[36m0:00:00\u001b[0m\n",
            "\u001b[?25h  Preparing metadata (setup.py) ... \u001b[?25l\u001b[?25hdone\n",
            "Requirement already satisfied: jsonschema>=3.2.0 in /usr/local/lib/python3.10/dist-packages (from super-gradients==3.0.9+master) (4.3.3)\n",
            "Collecting treelib==1.6.1\n",
            "  Downloading treelib-1.6.1.tar.gz (24 kB)\n",
            "  Preparing metadata (setup.py) ... \u001b[?25l\u001b[?25hdone\n",
            "Requirement already satisfied: setuptools>=21.0.0 in /usr/local/lib/python3.10/dist-packages (from super-gradients==3.0.9+master) (67.7.2)\n",
            "Collecting pyparsing==2.4.5\n",
            "  Downloading pyparsing-2.4.5-py2.py3-none-any.whl (67 kB)\n",
            "\u001b[2K     \u001b[90m━━━━━━━━━━━━━━━━━━━━━━━━━━━━━━━━━━━━━━━━\u001b[0m \u001b[32m68.0/68.0 kB\u001b[0m \u001b[31m10.9 MB/s\u001b[0m eta \u001b[36m0:00:00\u001b[0m\n",
            "\u001b[?25hRequirement already satisfied: typing-extensions>=3.6.2.1 in /usr/local/lib/python3.10/dist-packages (from onnx==1.13.0->super-gradients==3.0.9+master) (4.5.0)\n",
            "Requirement already satisfied: flatbuffers in /usr/local/lib/python3.10/dist-packages (from onnxruntime==1.13.1->super-gradients==3.0.9+master) (23.3.3)\n",
            "Collecting coloredlogs\n",
            "  Downloading coloredlogs-15.0.1-py2.py3-none-any.whl (46 kB)\n",
            "\u001b[2K     \u001b[90m━━━━━━━━━━━━━━━━━━━━━━━━━━━━━━━━━━━━━━━━\u001b[0m \u001b[32m46.0/46.0 kB\u001b[0m \u001b[31m6.0 MB/s\u001b[0m eta \u001b[36m0:00:00\u001b[0m\n",
            "\u001b[?25hRequirement already satisfied: sympy in /usr/local/lib/python3.10/dist-packages (from onnxruntime==1.13.1->super-gradients==3.0.9+master) (1.11.1)\n",
            "Collecting pyDeprecate==0.3.*\n",
            "  Downloading pyDeprecate-0.3.2-py3-none-any.whl (10 kB)\n",
            "Requirement already satisfied: future in /usr/local/lib/python3.10/dist-packages (from treelib==1.6.1->super-gradients==3.0.9+master) (0.18.3)\n",
            "Collecting jmespath<2.0.0,>=0.7.1\n",
            "  Downloading jmespath-1.0.1-py3-none-any.whl (20 kB)\n",
            "Collecting botocore<1.30.0,>=1.29.123\n",
            "  Downloading botocore-1.29.123-py3-none-any.whl (10.7 MB)\n",
            "\u001b[2K     \u001b[90m━━━━━━━━━━━━━━━━━━━━━━━━━━━━━━━━━━━━━━━━\u001b[0m \u001b[32m10.7/10.7 MB\u001b[0m \u001b[31m71.6 MB/s\u001b[0m eta \u001b[36m0:00:00\u001b[0m\n",
            "\u001b[?25hCollecting s3transfer<0.7.0,>=0.6.0\n",
            "  Downloading s3transfer-0.6.0-py3-none-any.whl (79 kB)\n",
            "\u001b[2K     \u001b[90m━━━━━━━━━━━━━━━━━━━━━━━━━━━━━━━━━━━━━━━━\u001b[0m \u001b[32m79.6/79.6 kB\u001b[0m \u001b[31m10.8 MB/s\u001b[0m eta \u001b[36m0:00:00\u001b[0m\n",
            "\u001b[?25hRequirement already satisfied: wrapt<2,>=1.10 in /usr/local/lib/python3.10/dist-packages (from Deprecated>=1.2.11->super-gradients==3.0.9+master) (1.14.1)\n",
            "Collecting antlr4-python3-runtime==4.9.*\n",
            "  Downloading antlr4-python3-runtime-4.9.3.tar.gz (117 kB)\n",
            "\u001b[2K     \u001b[90m━━━━━━━━━━━━━━━━━━━━━━━━━━━━━━━━━━━━━━\u001b[0m \u001b[32m117.0/117.0 kB\u001b[0m \u001b[31m15.6 MB/s\u001b[0m eta \u001b[36m0:00:00\u001b[0m\n",
            "\u001b[?25h  Preparing metadata (setup.py) ... \u001b[?25l\u001b[?25hdone\n",
            "Requirement already satisfied: pyrsistent!=0.17.0,!=0.17.1,!=0.17.2,>=0.14.0 in /usr/local/lib/python3.10/dist-packages (from jsonschema>=3.2.0->super-gradients==3.0.9+master) (0.19.3)\n",
            "Requirement already satisfied: attrs>=17.4.0 in /usr/local/lib/python3.10/dist-packages (from jsonschema>=3.2.0->super-gradients==3.0.9+master) (23.1.0)\n",
            "Requirement already satisfied: contourpy>=1.0.1 in /usr/local/lib/python3.10/dist-packages (from matplotlib>=3.3.4->super-gradients==3.0.9+master) (1.0.7)\n",
            "Requirement already satisfied: cycler>=0.10 in /usr/local/lib/python3.10/dist-packages (from matplotlib>=3.3.4->super-gradients==3.0.9+master) (0.11.0)\n",
            "Requirement already satisfied: python-dateutil>=2.7 in /usr/local/lib/python3.10/dist-packages (from matplotlib>=3.3.4->super-gradients==3.0.9+master) (2.8.2)\n",
            "Requirement already satisfied: fonttools>=4.22.0 in /usr/local/lib/python3.10/dist-packages (from matplotlib>=3.3.4->super-gradients==3.0.9+master) (4.39.3)\n",
            "Requirement already satisfied: kiwisolver>=1.0.1 in /usr/local/lib/python3.10/dist-packages (from matplotlib>=3.3.4->super-gradients==3.0.9+master) (1.4.4)\n",
            "Requirement already satisfied: PyYAML>=5.1.0 in /usr/local/lib/python3.10/dist-packages (from omegaconf->super-gradients==3.0.9+master) (6.0)\n",
            "Requirement already satisfied: rich in /usr/local/lib/python3.10/dist-packages (from onnx-simplifier<1.0,>=0.3.6->super-gradients==3.0.9+master) (13.3.4)\n",
            "Requirement already satisfied: click>=8 in /usr/local/lib/python3.10/dist-packages (from pip-tools>=6.12.1->super-gradients==3.0.9+master) (8.1.3)\n",
            "Requirement already satisfied: pip>=22.2 in /usr/local/lib/python3.10/dist-packages (from pip-tools>=6.12.1->super-gradients==3.0.9+master) (23.0.1)\n",
            "Collecting build\n",
            "  Downloading build-0.10.0-py3-none-any.whl (17 kB)\n",
            "Requirement already satisfied: Jinja2>=2.3 in /usr/local/lib/python3.10/dist-packages (from sphinx~=4.0.2->super-gradients==3.0.9+master) (3.1.2)\n",
            "Requirement already satisfied: sphinxcontrib-jsmath in /usr/local/lib/python3.10/dist-packages (from sphinx~=4.0.2->super-gradients==3.0.9+master) (1.0.1)\n",
            "Requirement already satisfied: imagesize in /usr/local/lib/python3.10/dist-packages (from sphinx~=4.0.2->super-gradients==3.0.9+master) (1.4.1)\n",
            "Requirement already satisfied: sphinxcontrib-devhelp in /usr/local/lib/python3.10/dist-packages (from sphinx~=4.0.2->super-gradients==3.0.9+master) (1.0.2)\n",
            "Requirement already satisfied: requests>=2.5.0 in /usr/local/lib/python3.10/dist-packages (from sphinx~=4.0.2->super-gradients==3.0.9+master) (2.27.1)\n",
            "Requirement already satisfied: sphinxcontrib-qthelp in /usr/local/lib/python3.10/dist-packages (from sphinx~=4.0.2->super-gradients==3.0.9+master) (1.0.3)\n",
            "Requirement already satisfied: sphinxcontrib-applehelp in /usr/local/lib/python3.10/dist-packages (from sphinx~=4.0.2->super-gradients==3.0.9+master) (1.0.4)\n",
            "Requirement already satisfied: sphinxcontrib-serializinghtml in /usr/local/lib/python3.10/dist-packages (from sphinx~=4.0.2->super-gradients==3.0.9+master) (1.1.5)\n",
            "Requirement already satisfied: snowballstemmer>=1.1 in /usr/local/lib/python3.10/dist-packages (from sphinx~=4.0.2->super-gradients==3.0.9+master) (2.2.0)\n",
            "Requirement already satisfied: alabaster<0.8,>=0.7 in /usr/local/lib/python3.10/dist-packages (from sphinx~=4.0.2->super-gradients==3.0.9+master) (0.7.13)\n",
            "Requirement already satisfied: docutils<0.18,>=0.14 in /usr/local/lib/python3.10/dist-packages (from sphinx~=4.0.2->super-gradients==3.0.9+master) (0.16)\n",
            "Requirement already satisfied: babel>=1.3 in /usr/local/lib/python3.10/dist-packages (from sphinx~=4.0.2->super-gradients==3.0.9+master) (2.12.1)\n",
            "Requirement already satisfied: sphinxcontrib-htmlhelp in /usr/local/lib/python3.10/dist-packages (from sphinx~=4.0.2->super-gradients==3.0.9+master) (2.0.1)\n",
            "Requirement already satisfied: absl-py>=0.4 in /usr/local/lib/python3.10/dist-packages (from tensorboard>=2.4.1->super-gradients==3.0.9+master) (1.4.0)\n",
            "Requirement already satisfied: markdown>=2.6.8 in /usr/local/lib/python3.10/dist-packages (from tensorboard>=2.4.1->super-gradients==3.0.9+master) (3.4.3)\n",
            "Requirement already satisfied: grpcio>=1.48.2 in /usr/local/lib/python3.10/dist-packages (from tensorboard>=2.4.1->super-gradients==3.0.9+master) (1.54.0)\n",
            "Requirement already satisfied: google-auth-oauthlib<1.1,>=0.5 in /usr/local/lib/python3.10/dist-packages (from tensorboard>=2.4.1->super-gradients==3.0.9+master) (1.0.0)\n",
            "Requirement already satisfied: google-auth<3,>=1.6.3 in /usr/local/lib/python3.10/dist-packages (from tensorboard>=2.4.1->super-gradients==3.0.9+master) (2.17.3)\n",
            "Requirement already satisfied: tensorboard-data-server<0.8.0,>=0.7.0 in /usr/local/lib/python3.10/dist-packages (from tensorboard>=2.4.1->super-gradients==3.0.9+master) (0.7.0)\n",
            "Requirement already satisfied: werkzeug>=1.0.1 in /usr/local/lib/python3.10/dist-packages (from tensorboard>=2.4.1->super-gradients==3.0.9+master) (2.3.0)\n",
            "Requirement already satisfied: tensorboard-plugin-wit>=1.6.0 in /usr/local/lib/python3.10/dist-packages (from tensorboard>=2.4.1->super-gradients==3.0.9+master) (1.8.1)\n",
            "Collecting nvidia-cuda-nvrtc-cu11==11.7.99\n",
            "  Downloading nvidia_cuda_nvrtc_cu11-11.7.99-2-py3-none-manylinux1_x86_64.whl (21.0 MB)\n",
            "\u001b[2K     \u001b[90m━━━━━━━━━━━━━━━━━━━━━━━━━━━━━━━━━━━━━━━━\u001b[0m \u001b[32m21.0/21.0 MB\u001b[0m \u001b[31m54.6 MB/s\u001b[0m eta \u001b[36m0:00:00\u001b[0m\n",
            "\u001b[?25hCollecting nvidia-cudnn-cu11==8.5.0.96\n",
            "  Downloading nvidia_cudnn_cu11-8.5.0.96-2-py3-none-manylinux1_x86_64.whl (557.1 MB)\n",
            "\u001b[2K     \u001b[90m━━━━━━━━━━━━━━━━━━━━━━━━━━━━━━━━━━━━━━━\u001b[0m \u001b[32m557.1/557.1 MB\u001b[0m \u001b[31m2.9 MB/s\u001b[0m eta \u001b[36m0:00:00\u001b[0m\n",
            "\u001b[?25hCollecting nvidia-cuda-runtime-cu11==11.7.99\n",
            "  Downloading nvidia_cuda_runtime_cu11-11.7.99-py3-none-manylinux1_x86_64.whl (849 kB)\n",
            "\u001b[2K     \u001b[90m━━━━━━━━━━━━━━━━━━━━━━━━━━━━━━━━━━━━━━\u001b[0m \u001b[32m849.3/849.3 kB\u001b[0m \u001b[31m51.0 MB/s\u001b[0m eta \u001b[36m0:00:00\u001b[0m\n",
            "\u001b[?25hCollecting nvidia-cublas-cu11==11.10.3.66\n",
            "  Downloading nvidia_cublas_cu11-11.10.3.66-py3-none-manylinux1_x86_64.whl (317.1 MB)\n",
            "\u001b[2K     \u001b[90m━━━━━━━━━━━━━━━━━━━━━━━━━━━━━━━━━━━━━━━\u001b[0m \u001b[32m317.1/317.1 MB\u001b[0m \u001b[31m5.2 MB/s\u001b[0m eta \u001b[36m0:00:00\u001b[0m\n",
            "\u001b[?25hCollecting torchvision>=0.10.0\n",
            "  Downloading torchvision-0.15.1-cp310-cp310-manylinux1_x86_64.whl (6.0 MB)\n",
            "\u001b[2K     \u001b[90m━━━━━━━━━━━━━━━━━━━━━━━━━━━━━━━━━━━━━━━━\u001b[0m \u001b[32m6.0/6.0 MB\u001b[0m \u001b[31m119.9 MB/s\u001b[0m eta \u001b[36m0:00:00\u001b[0m\n",
            "\u001b[?25h  Downloading torchvision-0.14.1-cp310-cp310-manylinux1_x86_64.whl (24.2 MB)\n",
            "\u001b[2K     \u001b[90m━━━━━━━━━━━━━━━━━━━━━━━━━━━━━━━━━━━━━━━━\u001b[0m \u001b[32m24.2/24.2 MB\u001b[0m \u001b[31m57.7 MB/s\u001b[0m eta \u001b[36m0:00:00\u001b[0m\n",
            "\u001b[?25hCollecting sphinxcontrib-jquery!=3.0.0,>=2.0.0\n",
            "  Downloading sphinxcontrib_jquery-4.1-py2.py3-none-any.whl (121 kB)\n",
            "\u001b[2K     \u001b[90m━━━━━━━━━━━━━━━━━━━━━━━━━━━━━━━━━━━━━━\u001b[0m \u001b[32m121.1/121.1 kB\u001b[0m \u001b[31m18.5 MB/s\u001b[0m eta \u001b[36m0:00:00\u001b[0m\n",
            "\u001b[?25hRequirement already satisfied: urllib3<1.27,>=1.25.4 in /usr/local/lib/python3.10/dist-packages (from botocore<1.30.0,>=1.29.123->boto3>=1.17.15->super-gradients==3.0.9+master) (1.26.15)\n",
            "Requirement already satisfied: six>=1.9.0 in /usr/local/lib/python3.10/dist-packages (from google-auth<3,>=1.6.3->tensorboard>=2.4.1->super-gradients==3.0.9+master) (1.16.0)\n",
            "Requirement already satisfied: pyasn1-modules>=0.2.1 in /usr/local/lib/python3.10/dist-packages (from google-auth<3,>=1.6.3->tensorboard>=2.4.1->super-gradients==3.0.9+master) (0.3.0)\n",
            "Requirement already satisfied: cachetools<6.0,>=2.0.0 in /usr/local/lib/python3.10/dist-packages (from google-auth<3,>=1.6.3->tensorboard>=2.4.1->super-gradients==3.0.9+master) (5.3.0)\n",
            "Requirement already satisfied: rsa<5,>=3.1.4 in /usr/local/lib/python3.10/dist-packages (from google-auth<3,>=1.6.3->tensorboard>=2.4.1->super-gradients==3.0.9+master) (4.9)\n",
            "Requirement already satisfied: requests-oauthlib>=0.7.0 in /usr/local/lib/python3.10/dist-packages (from google-auth-oauthlib<1.1,>=0.5->tensorboard>=2.4.1->super-gradients==3.0.9+master) (1.3.1)\n",
            "Requirement already satisfied: MarkupSafe>=2.0 in /usr/local/lib/python3.10/dist-packages (from Jinja2>=2.3->sphinx~=4.0.2->super-gradients==3.0.9+master) (2.1.2)\n",
            "Requirement already satisfied: certifi>=2017.4.17 in /usr/local/lib/python3.10/dist-packages (from requests>=2.5.0->sphinx~=4.0.2->super-gradients==3.0.9+master) (2022.12.7)\n",
            "Requirement already satisfied: idna<4,>=2.5 in /usr/local/lib/python3.10/dist-packages (from requests>=2.5.0->sphinx~=4.0.2->super-gradients==3.0.9+master) (3.4)\n",
            "Requirement already satisfied: charset-normalizer~=2.0.0 in /usr/local/lib/python3.10/dist-packages (from requests>=2.5.0->sphinx~=4.0.2->super-gradients==3.0.9+master) (2.0.12)\n",
            "Collecting pyproject_hooks\n",
            "  Downloading pyproject_hooks-1.0.0-py3-none-any.whl (9.3 kB)\n",
            "Requirement already satisfied: tomli>=1.1.0 in /usr/local/lib/python3.10/dist-packages (from build->pip-tools>=6.12.1->super-gradients==3.0.9+master) (2.0.1)\n",
            "Collecting humanfriendly>=9.1\n",
            "  Downloading humanfriendly-10.0-py2.py3-none-any.whl (86 kB)\n",
            "\u001b[2K     \u001b[90m━━━━━━━━━━━━━━━━━━━━━━━━━━━━━━━━━━━━━━━━\u001b[0m \u001b[32m86.8/86.8 kB\u001b[0m \u001b[31m13.0 MB/s\u001b[0m eta \u001b[36m0:00:00\u001b[0m\n",
            "\u001b[?25hRequirement already satisfied: markdown-it-py<3.0.0,>=2.2.0 in /usr/local/lib/python3.10/dist-packages (from rich->onnx-simplifier<1.0,>=0.3.6->super-gradients==3.0.9+master) (2.2.0)\n",
            "Requirement already satisfied: mpmath>=0.19 in /usr/local/lib/python3.10/dist-packages (from sympy->onnxruntime==1.13.1->super-gradients==3.0.9+master) (1.3.0)\n",
            "Requirement already satisfied: mdurl~=0.1 in /usr/local/lib/python3.10/dist-packages (from markdown-it-py<3.0.0,>=2.2.0->rich->onnx-simplifier<1.0,>=0.3.6->super-gradients==3.0.9+master) (0.1.2)\n",
            "Requirement already satisfied: pyasn1<0.6.0,>=0.4.6 in /usr/local/lib/python3.10/dist-packages (from pyasn1-modules>=0.2.1->google-auth<3,>=1.6.3->tensorboard>=2.4.1->super-gradients==3.0.9+master) (0.5.0)\n",
            "Requirement already satisfied: oauthlib>=3.0.0 in /usr/local/lib/python3.10/dist-packages (from requests-oauthlib>=0.7.0->google-auth-oauthlib<1.1,>=0.5->tensorboard>=2.4.1->super-gradients==3.0.9+master) (3.2.2)\n",
            "Building wheels for collected packages: super-gradients, pycocotools, termcolor, treelib, coverage, antlr4-python3-runtime, stringcase\n",
            "  Building wheel for super-gradients (pyproject.toml) ... \u001b[?25l\u001b[?25hdone\n",
            "  Created wheel for super-gradients: filename=super_gradients-3.0.9+master-py3-none-any.whl size=945562 sha256=51c6a808e03f30ac1314763d7a8a82af51efb672eccf651f85ec6ce7e827dce7\n",
            "  Stored in directory: /tmp/pip-ephem-wheel-cache-xjbqybuv/wheels/46/26/b1/a031680947d211c3782ba900b2953febc32c7a3c72dcf78a30\n",
            "  Building wheel for pycocotools (pyproject.toml) ... \u001b[?25l\u001b[?25hdone\n",
            "  Created wheel for pycocotools: filename=pycocotools-2.0.4-cp310-cp310-linux_x86_64.whl size=398186 sha256=3db8e4284b08d795d06396ac23b6d71e8652aa547d863960afc7244ea735716d\n",
            "  Stored in directory: /root/.cache/pip/wheels/a6/32/80/d5fe20c79fd05d626c0bc0ee44294db21b674267b2271588fa\n",
            "  Building wheel for termcolor (setup.py) ... \u001b[?25l\u001b[?25hdone\n",
            "  Created wheel for termcolor: filename=termcolor-1.1.0-py3-none-any.whl size=4845 sha256=ae432db5b3d8f18a2c4e11f033086553cb995a30e1f31439b3ca0fdd29f96824\n",
            "  Stored in directory: /root/.cache/pip/wheels/a1/49/46/1b13a65d8da11238af9616b00fdde6d45b0f95d9291bac8452\n",
            "  Building wheel for treelib (setup.py) ... \u001b[?25l\u001b[?25hdone\n",
            "  Created wheel for treelib: filename=treelib-1.6.1-py3-none-any.whl size=18381 sha256=209efacd859f642fa56653ba29e29fb42da872be6ec589a9fd6534c39441dbcc\n",
            "  Stored in directory: /root/.cache/pip/wheels/63/72/8b/76569b82bf280a03c4e294c3b29ee2398217186369c427ed4b\n",
            "  Building wheel for coverage (setup.py) ... \u001b[?25l\u001b[?25hdone\n",
            "  Created wheel for coverage: filename=coverage-5.3.1-cp310-cp310-linux_x86_64.whl size=243161 sha256=c52110c428df27a0c96ec004cdaadde0f3b4c70f9b69668b5103476b58a13fbc\n",
            "  Stored in directory: /root/.cache/pip/wheels/e2/70/10/313be697f460d6024cfa94b7f0e22ffc1c53aab718fb4f42af\n",
            "  Building wheel for antlr4-python3-runtime (setup.py) ... \u001b[?25l\u001b[?25hdone\n",
            "  Created wheel for antlr4-python3-runtime: filename=antlr4_python3_runtime-4.9.3-py3-none-any.whl size=144573 sha256=4e7cd231246a88466b7925306ef622f89d2055fa82e7106ed95c5e376029a809\n",
            "  Stored in directory: /root/.cache/pip/wheels/12/93/dd/1f6a127edc45659556564c5730f6d4e300888f4bca2d4c5a88\n",
            "  Building wheel for stringcase (setup.py) ... \u001b[?25l\u001b[?25hdone\n",
            "  Created wheel for stringcase: filename=stringcase-1.2.0-py3-none-any.whl size=3583 sha256=aef92ca01371bf2b4c31352225939518e6958be26a1f98bd3815b7dcbdd6713e\n",
            "  Stored in directory: /root/.cache/pip/wheels/31/ba/22/1a2d952a9ce8aa86e42fda41e2c87fdaf20e238c88bf8df013\n",
            "Successfully built super-gradients pycocotools termcolor treelib coverage antlr4-python3-runtime stringcase\n",
            "Installing collected packages: termcolor, stringcase, json-tricks, einops, antlr4-python3-runtime, treelib, rapidfuzz, pyproject_hooks, pyparsing, pyDeprecate, pillow, onnx, omegaconf, nvidia-cuda-runtime-cu11, nvidia-cuda-nvrtc-cu11, nvidia-cublas-cu11, jmespath, humanfriendly, Deprecated, coverage, sphinx, nvidia-cudnn-cu11, hydra-core, coloredlogs, build, botocore, torch, sphinxcontrib-jquery, s3transfer, pycocotools, pip-tools, onnxruntime, onnx-simplifier, torchvision, torchmetrics, sphinx-rtd-theme, boto3, super-gradients\n",
            "  Attempting uninstall: termcolor\n",
            "    Found existing installation: termcolor 2.3.0\n",
            "    Uninstalling termcolor-2.3.0:\n",
            "      Successfully uninstalled termcolor-2.3.0\n",
            "  Attempting uninstall: pyparsing\n",
            "    Found existing installation: pyparsing 3.0.9\n",
            "    Uninstalling pyparsing-3.0.9:\n",
            "      Successfully uninstalled pyparsing-3.0.9\n",
            "  Attempting uninstall: pillow\n",
            "    Found existing installation: Pillow 8.4.0\n",
            "    Uninstalling Pillow-8.4.0:\n",
            "      Successfully uninstalled Pillow-8.4.0\n",
            "  Attempting uninstall: sphinx\n",
            "    Found existing installation: Sphinx 3.5.4\n",
            "    Uninstalling Sphinx-3.5.4:\n",
            "      Successfully uninstalled Sphinx-3.5.4\n",
            "  Attempting uninstall: torch\n",
            "    Found existing installation: torch 2.0.0+cu118\n",
            "    Uninstalling torch-2.0.0+cu118:\n",
            "      Successfully uninstalled torch-2.0.0+cu118\n",
            "  Attempting uninstall: pycocotools\n",
            "    Found existing installation: pycocotools 2.0.6\n",
            "    Uninstalling pycocotools-2.0.6:\n",
            "      Successfully uninstalled pycocotools-2.0.6\n",
            "  Attempting uninstall: pip-tools\n",
            "    Found existing installation: pip-tools 6.6.2\n",
            "    Uninstalling pip-tools-6.6.2:\n",
            "      Successfully uninstalled pip-tools-6.6.2\n",
            "  Attempting uninstall: torchvision\n",
            "    Found existing installation: torchvision 0.15.1+cu118\n",
            "    Uninstalling torchvision-0.15.1+cu118:\n",
            "      Successfully uninstalled torchvision-0.15.1+cu118\n",
            "\u001b[31mERROR: pip's dependency resolver does not currently take into account all the packages that are installed. This behaviour is the source of the following dependency conflicts.\n",
            "torchtext 0.15.1 requires torch==2.0.0, but you have torch 1.13.1 which is incompatible.\n",
            "torchdata 0.6.0 requires torch==2.0.0, but you have torch 1.13.1 which is incompatible.\n",
            "torchaudio 2.0.1+cu118 requires torch==2.0.0, but you have torch 1.13.1 which is incompatible.\u001b[0m\u001b[31m\n",
            "\u001b[0mSuccessfully installed Deprecated-1.2.13 antlr4-python3-runtime-4.9.3 boto3-1.26.123 botocore-1.29.123 build-0.10.0 coloredlogs-15.0.1 coverage-5.3.1 einops-0.3.2 humanfriendly-10.0 hydra-core-1.3.2 jmespath-1.0.1 json-tricks-3.16.1 nvidia-cublas-cu11-11.10.3.66 nvidia-cuda-nvrtc-cu11-11.7.99 nvidia-cuda-runtime-cu11-11.7.99 nvidia-cudnn-cu11-8.5.0.96 omegaconf-2.3.0 onnx-1.13.0 onnx-simplifier-0.4.26 onnxruntime-1.13.1 pillow-9.5.0 pip-tools-6.13.0 pyDeprecate-0.3.2 pycocotools-2.0.4 pyparsing-2.4.5 pyproject_hooks-1.0.0 rapidfuzz-3.0.0 s3transfer-0.6.0 sphinx-4.0.3 sphinx-rtd-theme-1.2.0 sphinxcontrib-jquery-4.1 stringcase-1.2.0 super-gradients-3.0.9+master termcolor-1.1.0 torch-1.13.1 torchmetrics-0.8.0 torchvision-0.14.1 treelib-1.6.1\n"
          ]
        }
      ],
      "source": [
        "!pip install dagshub mlflow --quiet\n",
        "!pip install matplotlib==3.1.3 --quiet\n",
        "!python -m pip install --upgrade pillow==9.2.0 --quiet\n",
        "!pip install --upgrade Pillow --quiet"
      ]
    },
    {
      "cell_type": "markdown",
      "source": [
        "# 🎩 Set-up SuperGradients"
      ],
      "metadata": {
        "id": "tYtjo5K3IskW"
      }
    },
    {
      "cell_type": "markdown",
      "source": [
        "## Experiment setup\n",
        "\n",
        "We will first initialize our trainer which will be in charge of everything, like training, evaluation, saving checkpoints, plotting etc.\n",
        "\n",
        "The experiment name argument is important as every checkpoints, logs and tensorboards to be saved in a directory with the same name. This directory will be created as a sub-directory of ckpt_root_dir."
      ],
      "metadata": {
        "id": "dxrMj81_Jdxx"
      }
    },
    {
      "cell_type": "code",
      "source": [
        "from super_gradients import Trainer\n",
        "\n",
        "experiment_name = \"classification_transfer_learning\"\n",
        "CHECKPOINT_DIR = '/home/notebook_ckpts/'\n",
        "\n",
        "trainer = Trainer(experiment_name=experiment_name, ckpt_root_dir=CHECKPOINT_DIR)"
      ],
      "metadata": {
        "id": "Q0jbyNWklwKd",
        "colab": {
          "base_uri": "https://localhost:8080/"
        },
        "outputId": "b9778b3d-dd26-4446-d785-1cbf0508ec93"
      },
      "execution_count": 1,
      "outputs": [
        {
          "output_type": "stream",
          "name": "stdout",
          "text": [
            "The console stream is logged into /root/sg_logs/console.log\n"
          ]
        },
        {
          "output_type": "stream",
          "name": "stderr",
          "text": [
            "[2023-04-29 21:53:45] INFO - crash_tips_setup.py - Crash tips is enabled. You can set your environment variable to CRASH_HANDLER=FALSE to disable it\n",
            "[2023-04-29 21:53:59] INFO - utils.py - NumExpr defaulting to 2 threads.\n",
            "[2023-04-29 21:54:00] WARNING - __init__.py - Failed to import pytorch_quantization\n",
            "[2023-04-29 21:54:00] WARNING - calibrator.py - Failed to import pytorch_quantization\n",
            "[2023-04-29 21:54:00] WARNING - export.py - Failed to import pytorch_quantization\n",
            "[2023-04-29 21:54:00] WARNING - selective_quantization_utils.py - Failed to import pytorch_quantization\n",
            "[2023-04-29 21:54:00] INFO - env_sanity_check.py - Library check is not supported when super_gradients installed through \"git+https://github.com/...\" command\n"
          ]
        }
      ]
    },
    {
      "cell_type": "markdown",
      "source": [
        "## Dataset definition\n",
        "For the sake of this presentation, We'll use `CIFAR10` data set that can be found [here](https://www.cs.toronto.edu/~kriz/cifar.html).\n",
        "\n",
        "You can see the internal structure and file definition there, too.\n",
        "\n",
        "We will use [torchvision dataset implementation](https://pytorch.org/vision/stable/generated/torchvision.datasets.CIFAR10.html) where SuperGradients wil handle its download for you."
      ],
      "metadata": {
        "id": "y4AJKwXYKC32"
      }
    },
    {
      "cell_type": "code",
      "source": [
        "from super_gradients.training import dataloaders\n",
        "\n",
        "train_dataloader = dataloaders.get(\"cifar10_train\", dataset_params={}, dataloader_params={\"num_workers\": 2})\n",
        "valid_dataloader = dataloaders.get(\"cifar10_val\", dataset_params={}, dataloader_params={\"num_workers\": 2})"
      ],
      "metadata": {
        "id": "njJaM4YEoRmK",
        "colab": {
          "base_uri": "https://localhost:8080/",
          "height": 101,
          "referenced_widgets": [
            "dcc0ec97900c4bf3949192963c57353a",
            "0499795cff2a42d494791b3e5ef47045",
            "b88c744e42ee4fdf8acd915b54c82cf9",
            "498ac5e4cbb54be69246c28ebb07998e",
            "a081ee7adf124ceea42825c0899c8a20",
            "6ac8cf228e854b419d8ffd4d653fc509",
            "b5ad50c88c0641b0bd9d195d6cc363c3",
            "49304468b8024194b62919237cb2a6b8",
            "0dde0f183c9647b7a919e218938a7b40",
            "dc8370f00c9c4b4b94a0d5e54189563b",
            "bc6a3b1e68f34c2b8e06b9a72af8355a"
          ]
        },
        "outputId": "5d3fb8f5-8cdb-4d58-b60d-9a1951e1081b"
      },
      "execution_count": 2,
      "outputs": [
        {
          "output_type": "display_data",
          "data": {
            "text/plain": [
              "  0%|          | 0/170498071 [00:00<?, ?it/s]"
            ],
            "application/vnd.jupyter.widget-view+json": {
              "version_major": 2,
              "version_minor": 0,
              "model_id": "dcc0ec97900c4bf3949192963c57353a"
            }
          },
          "metadata": {}
        },
        {
          "output_type": "stream",
          "name": "stdout",
          "text": [
            "Downloading https://www.cs.toronto.edu/~kriz/cifar-10-python.tar.gz to ./data/cifar10/cifar-10-python.tar.gz\n",
            "Extracting ./data/cifar10/cifar-10-python.tar.gz to ./data/cifar10\n",
            "Files already downloaded and verified\n"
          ]
        }
      ]
    },
    {
      "cell_type": "code",
      "source": [
        "from matplotlib import pyplot as plt\n",
        "from torchvision import transforms as T\n",
        "import torch\n",
        "\n",
        "def show(images, labels, classes, rows=6, columns=5):\n",
        "  fig = plt.figure(figsize=(10, 10))\n",
        "\n",
        "  for i in range(1, columns * rows + 1):\n",
        "      fig.add_subplot(rows, columns, i)\n",
        "      plt.imshow(images[i-1].permute(1, 2, 0).clamp(0, 1))\n",
        "      plt.xticks([])\n",
        "      plt.yticks([])\n",
        "      plt.title(f\"{classes[labels[i-1]]}\")\n",
        "\n",
        "transforms_vis = [T.ToTensor()] # Let's just do nothing in transforms\n",
        "\n",
        "vis_dataloader = dataloaders.get(\"cifar10_train\",\n",
        "                                dataset_params={\"transforms\": transforms_vis},\n",
        "                                dataloader_params={\"num_workers\": 2})\n",
        "\n",
        "vis_images, vis_labels = next(iter(vis_dataloader))\n",
        "\n",
        "show(vis_images, vis_labels, classes=train_dataloader.dataset.classes)"
      ],
      "metadata": {
        "id": "T_vT1g8czhnq",
        "colab": {
          "base_uri": "https://localhost:8080/",
          "height": 849
        },
        "outputId": "400cd90e-a541-4a91-95a3-8f320450b5ff"
      },
      "execution_count": 19,
      "outputs": [
        {
          "output_type": "stream",
          "name": "stdout",
          "text": [
            "Files already downloaded and verified\n"
          ]
        },
        {
          "output_type": "display_data",
          "data": {
            "text/plain": [
              "<Figure size 1000x1000 with 30 Axes>"
            ],
            "image/png": "[encoded data removed]"
          },
          "metadata": {}
        }
      ]
    },
    {
      "cell_type": "markdown",
      "source": [
        "## Model architecture definition\n",
        "SG includes implementations of many different architectures for classification tasks. The architecture that uses here is ResNet18. We are going to use weights pretrained on the Imagenet dataset as a starting point."
      ],
      "metadata": {
        "id": "IYuv6oGcKtx1"
      }
    },
    {
      "cell_type": "code",
      "source": [
        "from super_gradients.training import models\n",
        "from super_gradients.common.object_names import Models\n",
        "\n",
        "model = models.get(model_name=Models.RESNET18, num_classes=10, pretrained_weights=\"imagenet\")"
      ],
      "metadata": {
        "id": "nxEwvl59zFIn",
        "colab": {
          "base_uri": "https://localhost:8080/",
          "height": 66,
          "referenced_widgets": [
            "eeeb074019ff48ee85272e28845854e7",
            "a27369e75c284796a15d283b1db0a31a",
            "36adb8c4a7e243e2b8718e3084881e11",
            "dbfedae147704270bb4c7d5cc3cce919",
            "131b0358390a4d32a0114ab9b48cfdc2",
            "3cf7edbfe646432fa2d7bc964561f2c6",
            "75931b1db1fe4401a5699a8b05b269a8",
            "ddb6cf5c13d8454e84c016cb8b576ecc",
            "2f5c708bb7ed4aebaafe0113a0f89565",
            "c07634a1ead041c9acff881d705f2ba6",
            "4a695a23007a4bd795cb59c082b04592"
          ]
        },
        "outputId": "dbdf5ceb-bed6-4754-e2f0-5038dab58b8e"
      },
      "execution_count": 6,
      "outputs": [
        {
          "output_type": "stream",
          "name": "stderr",
          "text": [
            "Downloading: \"https://deci-pretrained-models.s3.amazonaws.com/resnet18/average_model.pth\" to /root/.cache/torch/hub/checkpoints/resnet18_average_model.pth\n"
          ]
        },
        {
          "output_type": "display_data",
          "data": {
            "text/plain": [
              "  0%|          | 0.00/44.7M [00:00<?, ?B/s]"
            ],
            "application/vnd.jupyter.widget-view+json": {
              "version_major": 2,
              "version_minor": 0,
              "model_id": "eeeb074019ff48ee85272e28845854e7"
            }
          },
          "metadata": {}
        }
      ]
    },
    {
      "cell_type": "markdown",
      "source": [
        "## Transfer learning: Imagenet -> CIFAR10\n",
        "The training parameters for this use case were optimized per dataset and architecture and the type of training (from scratch\\transfer learning). For more recommended training params you can have a look at [SuperGradients recipes](https://github.com/Deci-AI/super-gradients/tree/master/src/super_gradients/recipes)."
      ],
      "metadata": {
        "id": "C38CgaVGK6A1"
      }
    },
    {
      "cell_type": "code",
      "source": [
        "from super_gradients.training import Trainer\n",
        "from super_gradients.training import training_hyperparams\n",
        "\n",
        "# you can see more recipes in super_gradients/recipes\n",
        "training_params =  training_hyperparams.get(\"training_hyperparams/cifar10_resnet_train_params\")"
      ],
      "metadata": {
        "id": "D-D3tk25zvJo",
        "colab": {
          "base_uri": "https://localhost:8080/"
        },
        "outputId": "942a3a90-5951-40b0-c295-3d3510c18a9e"
      },
      "execution_count": 7,
      "outputs": [
        {
          "output_type": "stream",
          "name": "stderr",
          "text": [
            "/usr/local/lib/python3.10/dist-packages/hydra/_internal/defaults_list.py:251: UserWarning: In 'training_hyperparams/cifar10_resnet_train_params': Defaults list is missing `_self_`. See https://hydra.cc/docs/1.2/upgrades/1.0_to_1.1/default_composition_order for more information\n",
            "  warnings.warn(msg, UserWarning)\n"
          ]
        }
      ]
    },
    {
      "cell_type": "markdown",
      "source": [
        "# 🐶 Set-up DagsHub\n"
      ],
      "metadata": {
        "id": "ZRNiUMykLHeg"
      }
    },
    {
      "cell_type": "markdown",
      "source": [
        "## What is the DagsHub Logger?\n",
        "DagsHub provides an out-of-the-box remote MLflow server to log experiments to, including metrics, parameters and artifacts (models, data, etc.). You can view the information under the experiment tab, share it with your team, and manage the trained models from the full-fledged MLflow UI built into your DagsHub project. \n",
        "\n",
        "With the DagsHub Logger you can log the experiment information and artifacts using MLflow by only setting a few parameters to SuperGradients's `trainer` module. On top of it, you can also version the artifact using DVC, and push them to your DagsHub storage to unlock visualisation and diffing capabilities."
      ],
      "metadata": {
        "id": "it7Xay2wwcoH"
      }
    },
    {
      "cell_type": "markdown",
      "source": [
        "## How to use DagsHub Logger with SuperGradients?\n",
        "DagsHub logger is suppurted as a callback in SuperGradients, and can be used by adding a few parameters to the `trainer` module.\n",
        "\n",
        "1. Set DagsHub as the trainer's logger: \n",
        "  ```\n",
        "  training_params[\"sg_logger\"] = \"dagshub_sg_logger\"\n",
        "  ```\n",
        "\n",
        "2. Provide the DagsHub repo name and owner:\n",
        "  ```\n",
        "  :param dagshub_repository: Format: <dagshub_username>/<dagshub_reponame>\n",
        "  ```\n",
        "  In the event that the repository does not exist, it will be created automatically on your behalf. "
      ],
      "metadata": {
        "id": "1PW42cdcweqa"
      }
    },
    {
      "cell_type": "markdown",
      "source": [
        "## Additinal parameters\n",
        "\n",
        "```\n",
        ":param experiment_name: Name used for logging and loading purposes\n",
        ":param storage_location: If set to 's3' (i.e. s3://my-bucket) saves the Checkpoints in AWS S3 otherwise saves the Checkpoints Locally\n",
        ":param resumed: If true, then old tensorboard files will **NOT** be deleted when tb_files_user_prompt=True\n",
        ":param training_params: training_params for the experiment.\n",
        ":param checkpoints_dir_path: Local root directory path where all experiment logging directories will reside.\n",
        ":param tb_files_user_prompt: Asks user for Tensorboard deletion prompt.\n",
        ":param launch_tensorboard: Whether to launch a TensorBoard process.\n",
        ":param tensorboard_port: Specific port number for the tensorboard to use when launched (when set to None, some free port number will be used\n",
        ":param save_checkpoints_remote: Saves checkpoints in s3 and DagsHub.\n",
        ":param save_tensorboard_remote: Saves tensorboard in s3.\n",
        ":param save_logs_remote: Saves log files in s3 and DagsHub.\n",
        ":param monitor_system: Save the system statistics (GPU utilization, CPU, ...) in the tensorboard\n",
        ":param dagshub_auth: Provide dagshub authentication token for automatic pipeline\n",
        ":param log_mlflow_only: Skip logging to DVC, use MLflow for all artifacts being logged\n",
        "```"
      ],
      "metadata": {
        "id": "bpAfmCyOwgmK"
      }
    },
    {
      "cell_type": "code",
      "source": [
        "training_params[\"sg_logger\"] = \"dagshub_sg_logger\"\n",
        "training_params[\"sg_logger_params\"] = {\"project_name\": \"auto_pipe_test\",\n",
        "                                       \"save_checkpoints_remote\": True,\n",
        "                                       \"save_tensorboard_remote\": False,\n",
        "                                       \"log_mlflow_only\":True,\n",
        "                                       \"save_logs_remote\": True }\n",
        "training_params[\"max_epochs\"] = 3\n",
        "training_params[\"sg_logger_params\"][\"dagshub_repository\"] = \"nirbarazida/SG\" "
      ],
      "metadata": {
        "id": "IPvDCUEmzrPU"
      },
      "execution_count": 20,
      "outputs": []
    },
    {
      "cell_type": "code",
      "source": [
        "trainer.train(model=model, \n",
        "              training_params=training_params, \n",
        "              train_loader=train_dataloader,\n",
        "              valid_loader=valid_dataloader)"
      ],
      "metadata": {
        "id": "2tNxLfvZ0OD0",
        "colab": {
          "base_uri": "https://localhost:8080/",
          "height": 1000
        },
        "outputId": "474223bf-173f-44d1-f6ba-df0cfdf396bc"
      },
      "execution_count": 21,
      "outputs": [
        {
          "output_type": "display_data",
          "data": {
            "text/plain": [
              "Repository initialized!\n"
            ],
            "text/html": [
              "<pre style=\"white-space:pre;overflow-x:auto;line-height:normal;font-family:Menlo,'DejaVu Sans Mono',consolas,'Courier New',monospace\">Repository initialized!\n",
              "</pre>\n"
            ]
          },
          "metadata": {}
        },
        {
          "output_type": "stream",
          "name": "stderr",
          "text": [
            "[2023-04-29 22:44:26] WARNING - sg_trainer.py - Train dataset size % batch_size != 0 and drop_last=False, this might result in smaller last batch.\n",
            "[2023-04-29 22:44:27] INFO - helpers.py - Repository initialized!\n",
            "[2023-04-29 22:44:27] WARNING - connectionpool.py - Retrying (Retry(total=4, connect=5, read=4, redirect=5, status=5)) after connection broken by 'ProtocolError('Connection aborted.', RemoteDisconnected('Remote end closed connection without response'))': /nirbarazida/SG-Test-2.mlflow/api/2.0/mlflow/experiments/get-by-name?experiment_name=classification_transfer_learning\n"
          ]
        },
        {
          "output_type": "stream",
          "name": "stdout",
          "text": [
            "The console stream is now moved to /home/notebook_ckpts/classification_transfer_learning/console_Apr29_22_44_26.txt\n"
          ]
        },
        {
          "output_type": "stream",
          "name": "stderr",
          "text": [
            "[2023-04-29 22:44:31] WARNING - dagshub_sg_logger.py - Skip to log schema: {'type': 'object', 'properties': {'max_epochs': {'type': 'number', 'minimum': 1}, 'lr_decay_factor': {'type': 'number', 'minimum': 0, 'maximum': 1}, 'lr_warmup_epochs': {'type': 'number', 'minimum': 0, 'maximum': 10}, 'initial_lr': {'type': 'number', 'exclusiveMinimum': 0, 'maximum': 10}}, 'if': {'properties': {'lr_mode': {'const': 'step'}}}, 'then': {'required': ['lr_updates', 'lr_decay_factor']}, 'required': ['max_epochs', 'lr_mode', 'initial_lr', 'loss']}\n",
            "[2023-04-29 22:44:32] WARNING - dagshub_sg_logger.py - Skip to log installed_packages: ['zipp 3.15.0', 'zict 3.0.0', 'yfinance 0.2.18', 'yellowbrick 1.5', 'xlrd 2.0.1', 'xgboost 1.7.5', 'xarray 2022.12.0', 'xarray-einstats 0.5.1', 'wrapt 1.14.1', 'wordcloud 1.8.2.2', 'widgetsnbextension 3.6.4', 'wheel 0.40.0', 'Werkzeug 2.3.0', 'websocket-client 1.5.1', 'webencodings 0.5.1', 'webcolors 1.13', 'wcwidth 0.2.6', 'wasabi 1.1.1', 'vega-datasets 0.9.0', 'urllib3 1.26.15', 'uritemplate 4.1.1', 'tzlocal 4.3', 'tzdata 2023.3', 'typing-extensions 4.5.0', 'typer 0.7.0', 'tweepy 4.13.0', 'triton 2.0.0', 'treelib 1.6.1', 'traitlets 5.7.1', 'tqdm 4.65.0', 'tornado 6.2', 'torchvision 0.14.1', 'torchtext 0.15.1', 'torchsummary 1.5.1', 'torchmetrics 0.8.0', 'torchdata 0.6.0', 'torchaudio 2.0.1+cu118', 'torch 1.13.1', 'toolz 0.12.0', 'tomli 2.0.1', 'toml 0.10.2', 'tinycss2 1.2.1', 'tifffile 2023.4.12', 'threadpoolctl 3.1.0', 'thinc 8.1.9', 'tf-slim 1.1.0', 'textblob 0.17.1', 'text-unidecode 1.3', 'terminado 0.17.1', 'termcolor 1.1.0', 'tensorstore 0.1.36', 'tensorflow 2.12.0', 'tensorflow-probability 0.19.0', 'tensorflow-metadata 1.13.1', 'tensorflow-io-gcs-filesystem 0.32.0', 'tensorflow-hub 0.13.0', 'tensorflow-gcs-config 2.12.0', 'tensorflow-estimator 2.12.0', 'tensorflow-datasets 4.8.3', 'tensorboard 2.12.2', 'tensorboard-plugin-wit 1.8.1', 'tensorboard-data-server 0.7.0', 'tenacity 8.2.2', 'tblib 1.7.0', 'tabulate 0.8.10', 'tables 3.8.0', 'sympy 1.11.1', 'super-gradients 3.0.9+master', 'stringcase 1.2.0', 'statsmodels 0.13.5', 'srsly 2.4.6', 'sqlparse 0.4.4', 'SQLAlchemy 2.0.10', 'sphinxcontrib-serializinghtml 1.1.5', 'sphinxcontrib-qthelp 1.0.3', 'sphinxcontrib-jsmath 1.0.1', 'sphinxcontrib-jquery 4.1', 'sphinxcontrib-htmlhelp 2.0.1', 'sphinxcontrib-devhelp 1.0.2', 'sphinxcontrib-applehelp 1.0.4', 'Sphinx 4.0.3', 'sphinx-rtd-theme 1.2.0', 'spacy 3.5.2', 'spacy-loggers 1.0.4', 'spacy-legacy 3.0.12', 'soxr 0.3.5', 'soupsieve 2.4.1', 'soundfile 0.12.1', 'sortedcontainers 2.4.0', 'snowballstemmer 2.2.0', 'sniffio 1.3.0', 'smmap 5.0.0', 'smart-open 6.3.0', 'sklearn-pandas 2.2.0', 'six 1.16.0', 'shapely 2.0.1', 'setuptools 67.7.2', 'Send2Trash 1.8.0', 'seaborn 0.12.2', 'scs 3.2.3', 'scipy 1.10.1', 'scikit-learn 1.2.2', 'scikit-image 0.19.3', 's3transfer 0.6.0', 'rsa 4.9', 'rpy2 3.5.5', 'rich 13.1.0', 'rfc3986 1.5.0', 'requests 2.27.1', 'requests-oauthlib 1.3.1', 'regex 2022.10.31', 'rapidfuzz 3.0.0', 'querystring-parser 1.2.4', 'qudida 0.0.4', 'qdldl 0.1.7', 'pyzmq 23.2.1', 'PyYAML 6.0', 'PyWavelets 1.4.1', 'pyviz-comms 2.2.1', 'pytz 2022.7.1', 'pytz-deprecation-shim 0.1.0.post0', 'python-utils 3.5.2', 'python-slugify 8.0.1', 'python-louvain 0.16', 'python-dateutil 2.8.2', 'python-apt 0.0.0', 'pytest 7.2.2', 'pytensor 2.10.1', 'PySocks 1.7.1', 'pyrsistent 0.19.3', 'pyproject-hooks 1.0.0', 'pyparsing 2.4.5', 'PyOpenGL 3.1.6', 'pymystem3 0.2.0', 'PyMeeus 0.5.12', 'pymc 5.1.2', 'PyJWT 2.6.0', 'Pygments 2.14.0', 'pygame 2.3.0', 'pyerfa 2.0.0.3', 'PyDrive 1.3.1', 'pydotplus 2.0.2', 'pydot 1.4.2', 'pydot-ng 2.0.0', 'pyDeprecate 0.3.2', 'pydata-google-auth 1.7.0', 'pydantic 1.10.7', 'pyct 0.5.0', 'pycparser 2.21', 'pycocotools 2.0.4', 'pyasn1 0.5.0', 'pyasn1-modules 0.3.0', 'pyarrow 9.0.0', 'py4j 0.10.9.7', 'py-cpuinfo 9.0.0', 'ptyprocess 0.7.0', 'psycopg2 2.9.6', 'psutil 5.9.5', 'protobuf 3.20.3', 'proto-plus 1.22.2', 'prophet 1.1.2', 'prompt-toolkit 3.0.38', 'promise 2.3', 'prometheus-client 0.16.0', 'progressbar2 4.2.0', 'proglog 0.1.10', 'prettytable 0.7.2', 'preshed 3.0.8', 'prefetch-generator 1.0.3', 'portpicker 1.3.9', 'pooch 1.6.0', 'polars 0.17.3', 'pluggy 1.0.0', 'plotnine 0.10.1', 'plotly 5.13.1', 'platformdirs 3.3.0', 'pip 23.0.1', 'pip-tools 6.13.0', 'Pillow 9.5.0', 'pickleshare 0.7.5', 'pexpect 4.8.0', 'pep517 0.13.0', 'patsy 0.5.3', 'pathy 0.10.1', 'pathlib 1.0.1', 'partd 1.4.0', 'parso 0.8.3', 'param 1.13.0', 'panel 0.14.4', 'pandocfilters 1.5.0', 'pandas 1.5.3', 'pandas-gbq 0.17.9', 'pandas-datareader 0.10.0', 'palettable 3.3.3', 'packaging 23.1', 'osqp 0.6.2.post8', 'orbax-checkpoint 0.2.1', 'optax 0.1.5', 'opt-einsum 3.3.0', 'openpyxl 3.0.10', 'opencv-python 4.7.0.72', 'opencv-python-headless 4.7.0.72', 'opencv-contrib-python 4.7.0.72', 'onnxruntime 1.13.1', 'onnx 1.13.0', 'onnx-simplifier 0.4.26', 'omegaconf 2.3.0', 'oauthlib 3.2.2', 'oauth2client 4.1.3', 'nvidia-cudnn-cu11 8.5.0.96', 'nvidia-cuda-runtime-cu11 11.7.99', 'nvidia-cuda-nvrtc-cu11 11.7.99', 'nvidia-cublas-cu11 11.10.3.66', 'numpy 1.22.4', 'numexpr 2.8.4', 'numba 0.56.4', 'notebook 6.4.8', 'nltk 3.8.1', 'nibabel 3.0.2', 'networkx 3.1', 'nest-asyncio 1.5.6', 'nbformat 5.8.0', 'nbconvert 6.5.4', 'nbclient 0.7.4', 'natsort 8.3.1', 'music21 8.1.0', 'murmurhash 1.0.9', 'multitasking 0.0.11', 'multipledispatch 0.6.0', 'msgpack 1.0.5', 'mpmath 1.3.0', 'moviepy 1.0.3', 'more-itertools 9.1.0', 'mlxtend 0.14.0', 'mlflow 2.3.1', 'ml-dtypes 0.1.0', 'mkl 2019.0', 'mizani 0.8.1', 'mistune 0.8.4', 'missingno 0.5.2', 'miniKanren 1.0.3', 'mdurl 0.1.2', 'matplotlib 3.1.3', 'matplotlib-venn 0.11.9', 'matplotlib-inline 0.1.6', 'MarkupSafe 2.1.2', 'Markdown 3.4.3', 'markdown-it-py 2.2.0', 'Mako 1.2.4', 'lxml 4.9.2', 'LunarCalendar 0.0.9', 'logical-unification 0.4.5', 'locket 1.0.0', 'llvmlite 0.39.1', 'lit 16.0.2', 'lightgbm 3.3.5', 'librosa 0.10.0.post2', 'libclang 16.0.0', 'lazy-loader 0.2', 'langcodes 3.3.0', 'korean-lunar-calendar 0.3.1', 'kiwisolver 1.4.4', 'keras 2.12.0', 'keras-vis 0.4.1', 'kaggle 1.5.13', 'jupyterlab-widgets 3.0.7', 'jupyterlab-pygments 0.2.2', 'jupyter-server 1.24.0', 'jupyter-core 5.3.0', 'jupyter-console 6.1.0', 'jupyter-client 6.1.12', 'jsonschema 4.3.3', 'jsonpickle 3.0.1', 'json-tricks 3.16.1', 'joblib 1.2.0', 'jmespath 1.0.1', 'Jinja2 3.1.2', 'jieba 0.42.1', 'jedi 0.18.2', 'jaxlib 0.4.7+cuda11.cudnn86', 'jax 0.4.8', 'itsdangerous 2.1.2', 'ipywidgets 7.7.1', 'ipython 7.34.0', 'ipython-sql 0.4.1', 'ipython-genutils 0.2.0', 'ipykernel 5.5.6', 'intel-openmp 2023.1.0', 'iniconfig 2.0.0', 'inflect 6.0.4', 'imutils 0.5.4', 'importlib-resources 5.12.0', 'importlib-metadata 6.6.0', 'imgaug 0.4.0', 'imbalanced-learn 0.10.1', 'imagesize 1.4.1', 'imageio 2.25.1', 'imageio-ffmpeg 0.4.8', 'idna 3.4', 'hyperopt 0.2.7', 'hydra-core 1.3.2', 'humanize 4.6.0', 'humanfriendly 10.0', 'httpx 0.22.0', 'httplib2 0.21.0', 'httpimport 1.3.0', 'httpcore 0.14.7', 'html5lib 1.1', 'holoviews 1.15.4', 'holidays 0.23', 'hijri-converter 2.3.1', 'h11 0.12.0', 'h5py 3.8.0', 'h5netcdf 1.1.0', 'gym 0.25.2', 'gym-notices 0.0.8', 'gunicorn 20.1.0', 'gspread 3.4.2', 'gspread-dataframe 3.0.8', 'grpcio 1.54.0', 'grpcio-status 1.48.2', 'greenlet 2.0.2', 'graphviz 0.20.1', 'googledrivedownloader 0.4', 'googleapis-common-protos 1.59.0', 'google 2.0.3', 'google-resumable-media 2.5.0', 'google-pasta 0.2.0', 'google-crc32c 1.5.0', 'google-colab 1.0.0', 'google-cloud-translate 3.11.1', 'google-cloud-storage 2.8.0', 'google-cloud-language 2.9.1', 'google-cloud-firestore 2.11.0', 'google-cloud-datastore 2.15.1', 'google-cloud-core 2.3.2', 'google-cloud-bigquery 3.9.0', 'google-cloud-bigquery-storage 2.19.1', 'google-auth 2.17.3', 'google-auth-oauthlib 1.0.0', 'google-auth-httplib2 0.1.0', 'google-api-python-client 2.84.0', 'google-api-core 2.11.0', 'glob2 0.7', 'GitPython 3.1.31', 'gitdb 4.0.10', 'gin-config 0.5.0', 'geopy 2.3.0', 'geographiclib 2.0', 'gensim 4.3.1', 'gdown 4.6.6', 'GDAL 3.3.2', 'gast 0.4.0', 'future 0.18.3', 'fusepy 3.0.1', 'fsspec 2023.4.0', 'frozendict 2.3.7', 'fonttools 4.39.3', 'folium 0.14.0', 'flax 0.6.9', 'flatbuffers 23.3.3', 'Flask 2.2.4', 'firebase-admin 5.3.0', 'filelock 3.12.0', 'fastrlock 0.8.1', 'fastprogress 1.0.3', 'fastjsonschema 2.16.3', 'fastdownload 0.0.7', 'fastcore 1.5.29', 'fastai 2.7.12', 'exceptiongroup 1.1.1', 'etuples 0.3.8', 'etils 1.2.0', 'et-xmlfile 1.1.0', 'ephem 4.1.4', 'entrypoints 0.4', 'en-core-web-sm 3.5.0', 'einops 0.3.2', 'editdistance 0.6.2', 'ecos 2.0.12', 'easydict 1.10', 'earthengine-api 0.1.350', 'duckdb 0.7.1', 'dopamine-rl 4.0.6', 'docutils 0.16', 'docker 6.0.1', 'dm-tree 0.1.8', 'dlib 19.24.1', 'distributed 2022.12.1', 'Deprecated 1.2.13', 'defusedxml 0.7.1', 'decorator 4.4.2', 'debugpy 1.6.6', 'db-dtypes 1.1.1', 'datascience 0.17.6', 'databricks-cli 0.17.6', 'dask 2022.12.1', 'dagshub 0.2.12', 'Cython 0.29.34', 'cymem 2.0.7', 'cycler 0.11.0', 'cvxpy 1.3.1', 'cvxopt 1.3.0', 'cupy-cuda11x 11.0.0', 'cufflinks 0.17.3', 'cryptography 40.0.2', 'coverage 5.3.1', 'convertdate 2.4.0', 'contourpy 1.0.7', 'contextlib2 0.6.0.post1', 'cons 0.4.5', 'confection 0.0.4', 'community 1.0.0b1', 'commonmark 0.9.1', 'colorlover 0.3.0', 'coloredlogs 15.0.1', 'colorcet 3.0.1', 'cmdstanpy 1.1.0', 'cmake 3.25.2', 'cloudpickle 2.2.1', 'click 8.1.3', 'chex 0.1.7', 'charset-normalizer 2.0.12', 'chardet 4.0.0', 'cffi 1.15.1', 'certifi 2022.12.7', 'catalogue 2.0.8', 'cachetools 5.3.0', 'cached-property 1.5.2', 'CacheControl 0.12.11', 'build 0.10.0', 'branca 0.6.0', 'botocore 1.29.123', 'boto3 1.26.123', 'bokeh 2.4.3', 'blosc2 2.0.0', 'blis 0.7.9', 'bleach 6.0.0', 'beautifulsoup4 4.11.2', 'backcall 0.2.0', 'Babel 2.12.1', 'autograd 1.5', 'audioread 3.0.0', 'attrs 23.1.0', 'astunparse 1.6.3', 'astropy 5.2.2', 'arviz 0.15.1', 'argon2-cffi 21.3.0', 'argon2-cffi-bindings 21.2.0', 'appdirs 1.4.4', 'anyio 3.6.2', 'antlr4-python3-runtime 4.9.3', 'altair 4.2.2', 'alembic 1.10.4', 'albumentations 1.2.1', 'alabaster 0.7.13', 'absl-py 1.4.0', 'requests-unixsocket 0.2.0', 'PyGObject 3.36.0', 'dbus-python 1.2.16']\n",
            "[2023-04-29 22:44:34] INFO - sg_trainer_utils.py - TRAINING PARAMETERS:\n",
            "    - Mode:                         Single GPU\n",
            "    - Number of GPUs:               1          (1 available on the machine)\n",
            "    - Dataset size:                 50000      (len(train_set))\n",
            "    - Batch size per GPU:           256        (batch_size)\n",
            "    - Batch Accumulate:             1          (batch_accumulate)\n",
            "    - Total batch size:             256        (num_gpus * batch_size)\n",
            "    - Effective Batch size:         256        (num_gpus * batch_size * batch_accumulate)\n",
            "    - Iterations per epoch:         196        (len(train_loader))\n",
            "    - Gradient updates per epoch:   196        (len(train_loader) / batch_accumulate)\n",
            "\n",
            "[2023-04-29 22:44:34] INFO - sg_trainer.py - Started training for 3 epochs (0/2)\n",
            "\n",
            "Train epoch 0: 100%|██████████| 196/196 [00:43<00:00,  4.46it/s, Accuracy=0.502, LabelSmoothingCrossEntropyLoss=1.35, Top5=0.938, gpu_mem=0.428]\n",
            "Validation epoch 0: 100%|██████████| 20/20 [00:07<00:00,  2.77it/s]\n"
          ]
        },
        {
          "output_type": "stream",
          "name": "stdout",
          "text": [
            "===========================================================\n",
            "SUMMARY OF EPOCH 0\n",
            "├── Training\n",
            "│   ├── Accuracy = 0.5023\n",
            "│   ├── Labelsmoothingcrossentropyloss = 1.3473\n",
            "│   └── Top5 = 0.9379\n",
            "└── Validation\n",
            "    ├── Accuracy = 0.5275\n",
            "    ├── Labelsmoothingcrossentropyloss = 1.3131\n",
            "    └── Top5 = 0.9463\n",
            "\n",
            "===========================================================\n"
          ]
        },
        {
          "output_type": "stream",
          "name": "stderr",
          "text": [
            "[2023-04-29 22:45:30] INFO - sg_trainer.py - Best checkpoint overriden: validation Accuracy: 0.5274999737739563\n",
            "Train epoch 1: 100%|██████████| 196/196 [00:43<00:00,  4.53it/s, Accuracy=0.539, LabelSmoothingCrossEntropyLoss=1.26, Top5=0.947, gpu_mem=0.428]\n",
            "Validation epoch 1: 100%|██████████| 20/20 [00:07<00:00,  2.50it/s]\n"
          ]
        },
        {
          "output_type": "stream",
          "name": "stdout",
          "text": [
            "===========================================================\n",
            "SUMMARY OF EPOCH 1\n",
            "├── Training\n",
            "│   ├── Accuracy = 0.5393\n",
            "│   │   ├── Best until now = 0.5023 (\u001b[32m↗ 0.037\u001b[0m)\n",
            "│   │   └── Epoch N-1      = 0.5023 (\u001b[32m↗ 0.037\u001b[0m)\n",
            "│   ├── Labelsmoothingcrossentropyloss = 1.2609\n",
            "│   │   ├── Best until now = 1.3473 (\u001b[32m↘ -0.0864\u001b[0m)\n",
            "│   │   └── Epoch N-1      = 1.3473 (\u001b[32m↘ -0.0864\u001b[0m)\n",
            "│   └── Top5 = 0.9473\n",
            "│       ├── Best until now = 0.9379 (\u001b[32m↗ 0.0094\u001b[0m)\n",
            "│       └── Epoch N-1      = 0.9379 (\u001b[32m↗ 0.0094\u001b[0m)\n",
            "└── Validation\n",
            "    ├── Accuracy = 0.5543\n",
            "    │   ├── Best until now = 0.5275 (\u001b[32m↗ 0.0268\u001b[0m)\n",
            "    │   └── Epoch N-1      = 0.5275 (\u001b[32m↗ 0.0268\u001b[0m)\n",
            "    ├── Labelsmoothingcrossentropyloss = 1.2666\n",
            "    │   ├── Best until now = 1.3131 (\u001b[32m↘ -0.0465\u001b[0m)\n",
            "    │   └── Epoch N-1      = 1.3131 (\u001b[32m↘ -0.0465\u001b[0m)\n",
            "    └── Top5 = 0.9561\n",
            "        ├── Best until now = 0.9463 (\u001b[32m↗ 0.0098\u001b[0m)\n",
            "        └── Epoch N-1      = 0.9463 (\u001b[32m↗ 0.0098\u001b[0m)\n",
            "\n",
            "===========================================================\n"
          ]
        },
        {
          "output_type": "stream",
          "name": "stderr",
          "text": [
            "[2023-04-29 22:46:29] INFO - sg_trainer.py - Best checkpoint overriden: validation Accuracy: 0.5543000102043152\n",
            "Train epoch 2: 100%|██████████| 196/196 [00:47<00:00,  4.11it/s, Accuracy=0.572, LabelSmoothingCrossEntropyLoss=1.17, Top5=0.957, gpu_mem=0.428]\n",
            "Validation epoch 2: 100%|██████████| 20/20 [00:06<00:00,  2.98it/s]\n"
          ]
        },
        {
          "output_type": "stream",
          "name": "stdout",
          "text": [
            "===========================================================\n",
            "SUMMARY OF EPOCH 2\n",
            "├── Training\n",
            "│   ├── Accuracy = 0.5723\n",
            "│   │   ├── Best until now = 0.5393 (\u001b[32m↗ 0.0329\u001b[0m)\n",
            "│   │   └── Epoch N-1      = 0.5393 (\u001b[32m↗ 0.0329\u001b[0m)\n",
            "│   ├── Labelsmoothingcrossentropyloss = 1.1715\n",
            "│   │   ├── Best until now = 1.2609 (\u001b[32m↘ -0.0893\u001b[0m)\n",
            "│   │   └── Epoch N-1      = 1.2609 (\u001b[32m↘ -0.0893\u001b[0m)\n",
            "│   └── Top5 = 0.9567\n",
            "│       ├── Best until now = 0.9473 (\u001b[32m↗ 0.0094\u001b[0m)\n",
            "│       └── Epoch N-1      = 0.9473 (\u001b[32m↗ 0.0094\u001b[0m)\n",
            "└── Validation\n",
            "    ├── Accuracy = 0.4546\n",
            "    │   ├── Best until now = 0.5543 (\u001b[31m↘ -0.0997\u001b[0m)\n",
            "    │   └── Epoch N-1      = 0.5543 (\u001b[31m↘ -0.0997\u001b[0m)\n",
            "    ├── Labelsmoothingcrossentropyloss = 1.6519\n",
            "    │   ├── Best until now = 1.2666 (\u001b[31m↗ 0.3853\u001b[0m)\n",
            "    │   └── Epoch N-1      = 1.2666 (\u001b[31m↗ 0.3853\u001b[0m)\n",
            "    └── Top5 = 0.9022\n",
            "        ├── Best until now = 0.9561 (\u001b[31m↘ -0.0539\u001b[0m)\n",
            "        └── Epoch N-1      = 0.9561 (\u001b[31m↘ -0.0539\u001b[0m)\n",
            "\n",
            "===========================================================\n"
          ]
        },
        {
          "output_type": "stream",
          "name": "stderr",
          "text": [
            "[2023-04-29 22:47:33] INFO - sg_trainer.py - RUNNING ADDITIONAL TEST ON THE AVERAGED MODEL...\n",
            "Validation epoch 3: 100%|██████████| 20/20 [00:05<00:00,  3.38it/s]\n"
          ]
        },
        {
          "output_type": "stream",
          "name": "stdout",
          "text": [
            "===========================================================\n",
            "SUMMARY OF EPOCH 3\n",
            "├── Training\n",
            "│   ├── Accuracy = 0.5723\n",
            "│   │   ├── Best until now = 0.5393 (\u001b[32m↗ 0.0329\u001b[0m)\n",
            "│   │   └── Epoch N-1      = 0.5393 (\u001b[32m↗ 0.0329\u001b[0m)\n",
            "│   ├── Labelsmoothingcrossentropyloss = 1.1715\n",
            "│   │   ├── Best until now = 1.2609 (\u001b[32m↘ -0.0893\u001b[0m)\n",
            "│   │   └── Epoch N-1      = 1.2609 (\u001b[32m↘ -0.0893\u001b[0m)\n",
            "│   └── Top5 = 0.9567\n",
            "│       ├── Best until now = 0.9473 (\u001b[32m↗ 0.0094\u001b[0m)\n",
            "│       └── Epoch N-1      = 0.9473 (\u001b[32m↗ 0.0094\u001b[0m)\n",
            "└── Validation\n",
            "    ├── Accuracy = 0.57\n",
            "    │   ├── Best until now = 0.5543 (\u001b[32m↗ 0.0157\u001b[0m)\n",
            "    │   └── Epoch N-1      = 0.4546 (\u001b[32m↗ 0.1154\u001b[0m)\n",
            "    ├── Labelsmoothingcrossentropyloss = 1.1839\n",
            "    │   ├── Best until now = 1.2666 (\u001b[32m↘ -0.0827\u001b[0m)\n",
            "    │   └── Epoch N-1      = 1.6519 (\u001b[32m↘ -0.468\u001b[0m)\n",
            "    └── Top5 = 0.9564\n",
            "        ├── Best until now = 0.9561 (\u001b[32m↗ 0.0003\u001b[0m)\n",
            "        └── Epoch N-1      = 0.9022 (\u001b[32m↗ 0.0542\u001b[0m)\n",
            "\n",
            "===========================================================\n"
          ]
        }
      ]
    },
    {
      "cell_type": "markdown",
      "source": [
        "# 🏁 Finish line\n",
        "\n",
        "Congratulations! You've reached the finish line! \n",
        "\n",
        "You successfully logged your experiment with DagsHub. You can see the metrics and parameters under the experiment tab, the artifacts logged by MLflow unser `http://dagshub.com/<repo-owner>/<repo-name>.mlflow` and the DVC versioned files in the file view of the repo.\n",
        "\n",
        "If you have any questions, feel free to reach out on our community Discord server 👉\n",
        "<a href=\"https://discord.gg/pk22NradY4\" title=\"DagsHub on Discord\"><img src=\"https://img.shields.io/discord/698874030052212737?logo=data%3Aimage%2Fpng%3Bbase64%2CiVBORw0KGgoAAAANSUhEUgAAAB4AAAAXCAYAAAAcP%2F9qAAAACXBIWXMAAAsTAAALEwEAmpwYAAAFN2lUWHRYTUw6Y29tLmFkb2JlLnhtcAAAAAAAPD94cGFja2V0IGJlZ2luPSLvu78iIGlkPSJXNU0wTXBDZWhpSHpyZVN6TlRjemtjOWQiPz4gPHg6eG1wbWV0YSB4bWxuczp4PSJhZG9iZTpuczptZXRhLyIgeDp4bXB0az0iQWRvYmUgWE1QIENvcmUgNi4wLWMwMDMgNzkuMTY0NTI3LCAyMDIwLzEwLzE1LTE3OjQ4OjMyICAgICAgICAiPiA8cmRmOlJERiB4bWxuczpyZGY9Imh0dHA6Ly93d3cudzMub3JnLzE5OTkvMDIvMjItcmRmLXN5bnRheC1ucyMiPiA8cmRmOkRlc2NyaXB0aW9uIHJkZjphYm91dD0iIiB4bWxuczp0aWZmPSJodHRwOi8vbnMuYWRvYmUuY29tL3RpZmYvMS4wLyIgeG1sbnM6eG1wPSJodHRwOi8vbnMuYWRvYmUuY29tL3hhcC8xLjAvIiB4bWxuczpkYz0iaHR0cDovL3B1cmwub3JnL2RjL2VsZW1lbnRzLzEuMS8iIHhtbG5zOnBob3Rvc2hvcD0iaHR0cDovL25zLmFkb2JlLmNvbS9waG90b3Nob3AvMS4wLyIgeG1sbnM6eG1wTU09Imh0dHA6Ly9ucy5hZG9iZS5jb20veGFwLzEuMC9tbS8iIHhtbG5zOnN0RXZ0PSJodHRwOi8vbnMuYWRvYmUuY29tL3hhcC8xLjAvc1R5cGUvUmVzb3VyY2VFdmVudCMiIHRpZmY6T3JpZW50YXRpb249IjEiIHhtcDpDcmVhdGVEYXRlPSIyMDIxLTEwLTIzVDE2OjI5OjAyKzAzOjAwIiB4bXA6TW9kaWZ5RGF0ZT0iMjAyMS0xMC0yM1QxNjozNDoxMiswMzowMCIgeG1wOk1ldGFkYXRhRGF0ZT0iMjAyMS0xMC0yM1QxNjozNDoxMiswMzowMCIgZGM6Zm9ybWF0PSJpbWFnZS9wbmciIHBob3Rvc2hvcDpDb2xvck1vZGU9IjMiIHBob3Rvc2hvcDpJQ0NQcm9maWxlPSJzUkdCIElFQzYxOTY2LTIuMSIgeG1wTU06SW5zdGFuY2VJRD0ieG1wLmlpZDpiMTBhMTRjOC1iNzg5LTQ2OTgtYmVhMi1kZTI4NDg3ZmEyMjIiIHhtcE1NOkRvY3VtZW50SUQ9InhtcC5kaWQ6YjEwYTE0YzgtYjc4OS00Njk4LWJlYTItZGUyODQ4N2ZhMjIyIiB4bXBNTTpPcmlnaW5hbERvY3VtZW50SUQ9InhtcC5kaWQ6YjEwYTE0YzgtYjc4OS00Njk4LWJlYTItZGUyODQ4N2ZhMjIyIj4gPHhtcE1NOkhpc3Rvcnk%2BIDxyZGY6U2VxPiA8cmRmOmxpIHN0RXZ0OmFjdGlvbj0ic2F2ZWQiIHN0RXZ0Omluc3RhbmNlSUQ9InhtcC5paWQ6YjEwYTE0YzgtYjc4OS00Njk4LWJlYTItZGUyODQ4N2ZhMjIyIiBzdEV2dDp3aGVuPSIyMDIxLTEwLTIzVDE2OjM0OjEyKzAzOjAwIiBzdEV2dDpzb2Z0d2FyZUFnZW50PSJBZG9iZSBQaG90b3Nob3AgMjIuMSAoTWFjaW50b3NoKSIgc3RFdnQ6Y2hhbmdlZD0iLyIvPiA8L3JkZjpTZXE%2BIDwveG1wTU06SGlzdG9yeT4gPC9yZGY6RGVzY3JpcHRpb24%2BIDwvcmRmOlJERj4gPC94OnhtcG1ldGE%2BIDw%2FeHBhY2tldCBlbmQ9InIiPz4jeahYAAACnElEQVRIx62WPWxOURjH7%2Fu%2BrTdN1RsGIkgw2BBLQwxCmvgamzAxCAs2xCYGSZWBWYihSUcDFhJpJJ1M0kUqJS1BlRCk%2Bno%2F7s%2FyPPV38lwtcZKTc%2B89z33%2B%2F%2BfznAzIkllO3lcD%2FcAloBbI%2B9wMDAB7ArlSKl8EWgWOAA%2BAWX6Ni8AaoA84AOwDdhm5%2ByL3ARgG9haBK2jF1rXAJL%2BPps2ikdvaANrJ3sMIXIE7bL1jP3w3sDxRjilv2WwX7DeAur2fM92dKbCD7hbmRZbli%2Fjmo2XrF2ClhtPN99g%2BWgD4X8YPWwfUao3tDnFT%2Fh%2BBPRQfJdtL6vebCcM0uRoLEGrbv61gzz14wq32GPcA7xOGHr92Qdz%2B9K0VEMdCmQFlB96fCKRZOgIMAd8Cxf48CdwCxgID%2FHnWynU%2Bq68GSeUKz0rJbQTeiTInOqqlYiTVkFz09SvwSCLo65go67b1tJB0r2yXkGXAKusDaq0bddmBu4BXiZUuNCx1Xklq3cl9NSCtkArwrEDnPQdeF7BzpU%2Bk6N3i44HFWxOLVxihSOdTB95SkFDO9Ki4uwZMyL4ru5scNteDZHV9U0A1s%2FhErU%2Bfh%2BxYnAqyui3euWAnGkHNu9wMUNOOFfXcZtA%2BF1PH9aD%2BtYMtz4BeAckDQeS0qssR2RJ3N4E5yRUKTiyAaaAnAzbI5lzSrW6biz%2F%2FRW9%2BCZwBHgtg23QDPNc67pOSQs7RF8ApYBtwGLhhzWICeAu8AcatFV6zW0mvkf1kRtRF7yiwyYH9SOwCrhTcNA4mWdtppbNUatfnYBD3GeCkXrGy9GYArLdymE5KpWqNpBRc9ErAElu7gdf27zhw3gi6XEd69SknBJYBx4yIesYvDj5LQsat3wkcCrw0T%2FonycbE%2FgQEhDUAAAAASUVORK5CYII%3D\"></a> "
      ],
      "metadata": {
        "id": "31Ttjjgsvaii"
      }
    },
    {
      "cell_type": "code",
      "source": [],
      "metadata": {
        "id": "NnwJ2fd3wUUy"
      },
      "execution_count": null,
      "outputs": []
    },
    {
      "cell_type": "code",
      "source": [],
      "metadata": {
        "id": "m8c2gD_zrgfk"
      },
      "execution_count": null,
      "outputs": []
    }
  ]
}